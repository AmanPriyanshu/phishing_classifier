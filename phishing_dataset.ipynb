{
  "nbformat": 4,
  "nbformat_minor": 0,
  "metadata": {
    "colab": {
      "name": "phishing_dataset.ipynb",
      "provenance": [],
      "collapsed_sections": [],
      "authorship_tag": "ABX9TyMl96j45QuKytIfoVkaIcws",
      "include_colab_link": true
    },
    "kernelspec": {
      "name": "python3",
      "display_name": "Python 3"
    },
    "accelerator": "TPU"
  },
  "cells": [
    {
      "cell_type": "markdown",
      "metadata": {
        "id": "view-in-github",
        "colab_type": "text"
      },
      "source": [
        "<a href=\"https://colab.research.google.com/github/AmanPriyanshu/phishing_classifier/blob/master/phishing_dataset.ipynb\" target=\"_parent\"><img src=\"https://colab.research.google.com/assets/colab-badge.svg\" alt=\"Open In Colab\"/></a>"
      ]
    },
    {
      "cell_type": "code",
      "metadata": {
        "id": "ZHM0jSFAz9y4",
        "colab_type": "code",
        "colab": {
          "resources": {
            "http://localhost:8080/nbextensions/google.colab/files.js": {
              "data": "Ly8gQ29weXJpZ2h0IDIwMTcgR29vZ2xlIExMQwovLwovLyBMaWNlbnNlZCB1bmRlciB0aGUgQXBhY2hlIExpY2Vuc2UsIFZlcnNpb24gMi4wICh0aGUgIkxpY2Vuc2UiKTsKLy8geW91IG1heSBub3QgdXNlIHRoaXMgZmlsZSBleGNlcHQgaW4gY29tcGxpYW5jZSB3aXRoIHRoZSBMaWNlbnNlLgovLyBZb3UgbWF5IG9idGFpbiBhIGNvcHkgb2YgdGhlIExpY2Vuc2UgYXQKLy8KLy8gICAgICBodHRwOi8vd3d3LmFwYWNoZS5vcmcvbGljZW5zZXMvTElDRU5TRS0yLjAKLy8KLy8gVW5sZXNzIHJlcXVpcmVkIGJ5IGFwcGxpY2FibGUgbGF3IG9yIGFncmVlZCB0byBpbiB3cml0aW5nLCBzb2Z0d2FyZQovLyBkaXN0cmlidXRlZCB1bmRlciB0aGUgTGljZW5zZSBpcyBkaXN0cmlidXRlZCBvbiBhbiAiQVMgSVMiIEJBU0lTLAovLyBXSVRIT1VUIFdBUlJBTlRJRVMgT1IgQ09ORElUSU9OUyBPRiBBTlkgS0lORCwgZWl0aGVyIGV4cHJlc3Mgb3IgaW1wbGllZC4KLy8gU2VlIHRoZSBMaWNlbnNlIGZvciB0aGUgc3BlY2lmaWMgbGFuZ3VhZ2UgZ292ZXJuaW5nIHBlcm1pc3Npb25zIGFuZAovLyBsaW1pdGF0aW9ucyB1bmRlciB0aGUgTGljZW5zZS4KCi8qKgogKiBAZmlsZW92ZXJ2aWV3IEhlbHBlcnMgZm9yIGdvb2dsZS5jb2xhYiBQeXRob24gbW9kdWxlLgogKi8KKGZ1bmN0aW9uKHNjb3BlKSB7CmZ1bmN0aW9uIHNwYW4odGV4dCwgc3R5bGVBdHRyaWJ1dGVzID0ge30pIHsKICBjb25zdCBlbGVtZW50ID0gZG9jdW1lbnQuY3JlYXRlRWxlbWVudCgnc3BhbicpOwogIGVsZW1lbnQudGV4dENvbnRlbnQgPSB0ZXh0OwogIGZvciAoY29uc3Qga2V5IG9mIE9iamVjdC5rZXlzKHN0eWxlQXR0cmlidXRlcykpIHsKICAgIGVsZW1lbnQuc3R5bGVba2V5XSA9IHN0eWxlQXR0cmlidXRlc1trZXldOwogIH0KICByZXR1cm4gZWxlbWVudDsKfQoKLy8gTWF4IG51bWJlciBvZiBieXRlcyB3aGljaCB3aWxsIGJlIHVwbG9hZGVkIGF0IGEgdGltZS4KY29uc3QgTUFYX1BBWUxPQURfU0laRSA9IDEwMCAqIDEwMjQ7Ci8vIE1heCBhbW91bnQgb2YgdGltZSB0byBibG9jayB3YWl0aW5nIGZvciB0aGUgdXNlci4KY29uc3QgRklMRV9DSEFOR0VfVElNRU9VVF9NUyA9IDMwICogMTAwMDsKCmZ1bmN0aW9uIF91cGxvYWRGaWxlcyhpbnB1dElkLCBvdXRwdXRJZCkgewogIGNvbnN0IHN0ZXBzID0gdXBsb2FkRmlsZXNTdGVwKGlucHV0SWQsIG91dHB1dElkKTsKICBjb25zdCBvdXRwdXRFbGVtZW50ID0gZG9jdW1lbnQuZ2V0RWxlbWVudEJ5SWQob3V0cHV0SWQpOwogIC8vIENhY2hlIHN0ZXBzIG9uIHRoZSBvdXRwdXRFbGVtZW50IHRvIG1ha2UgaXQgYXZhaWxhYmxlIGZvciB0aGUgbmV4dCBjYWxsCiAgLy8gdG8gdXBsb2FkRmlsZXNDb250aW51ZSBmcm9tIFB5dGhvbi4KICBvdXRwdXRFbGVtZW50LnN0ZXBzID0gc3RlcHM7CgogIHJldHVybiBfdXBsb2FkRmlsZXNDb250aW51ZShvdXRwdXRJZCk7Cn0KCi8vIFRoaXMgaXMgcm91Z2hseSBhbiBhc3luYyBnZW5lcmF0b3IgKG5vdCBzdXBwb3J0ZWQgaW4gdGhlIGJyb3dzZXIgeWV0KSwKLy8gd2hlcmUgdGhlcmUgYXJlIG11bHRpcGxlIGFzeW5jaHJvbm91cyBzdGVwcyBhbmQgdGhlIFB5dGhvbiBzaWRlIGlzIGdvaW5nCi8vIHRvIHBvbGwgZm9yIGNvbXBsZXRpb24gb2YgZWFjaCBzdGVwLgovLyBUaGlzIHVzZXMgYSBQcm9taXNlIHRvIGJsb2NrIHRoZSBweXRob24gc2lkZSBvbiBjb21wbGV0aW9uIG9mIGVhY2ggc3RlcCwKLy8gdGhlbiBwYXNzZXMgdGhlIHJlc3VsdCBvZiB0aGUgcHJldmlvdXMgc3RlcCBhcyB0aGUgaW5wdXQgdG8gdGhlIG5leHQgc3RlcC4KZnVuY3Rpb24gX3VwbG9hZEZpbGVzQ29udGludWUob3V0cHV0SWQpIHsKICBjb25zdCBvdXRwdXRFbGVtZW50ID0gZG9jdW1lbnQuZ2V0RWxlbWVudEJ5SWQob3V0cHV0SWQpOwogIGNvbnN0IHN0ZXBzID0gb3V0cHV0RWxlbWVudC5zdGVwczsKCiAgY29uc3QgbmV4dCA9IHN0ZXBzLm5leHQob3V0cHV0RWxlbWVudC5sYXN0UHJvbWlzZVZhbHVlKTsKICByZXR1cm4gUHJvbWlzZS5yZXNvbHZlKG5leHQudmFsdWUucHJvbWlzZSkudGhlbigodmFsdWUpID0+IHsKICAgIC8vIENhY2hlIHRoZSBsYXN0IHByb21pc2UgdmFsdWUgdG8gbWFrZSBpdCBhdmFpbGFibGUgdG8gdGhlIG5leHQKICAgIC8vIHN0ZXAgb2YgdGhlIGdlbmVyYXRvci4KICAgIG91dHB1dEVsZW1lbnQubGFzdFByb21pc2VWYWx1ZSA9IHZhbHVlOwogICAgcmV0dXJuIG5leHQudmFsdWUucmVzcG9uc2U7CiAgfSk7Cn0KCi8qKgogKiBHZW5lcmF0b3IgZnVuY3Rpb24gd2hpY2ggaXMgY2FsbGVkIGJldHdlZW4gZWFjaCBhc3luYyBzdGVwIG9mIHRoZSB1cGxvYWQKICogcHJvY2Vzcy4KICogQHBhcmFtIHtzdHJpbmd9IGlucHV0SWQgRWxlbWVudCBJRCBvZiB0aGUgaW5wdXQgZmlsZSBwaWNrZXIgZWxlbWVudC4KICogQHBhcmFtIHtzdHJpbmd9IG91dHB1dElkIEVsZW1lbnQgSUQgb2YgdGhlIG91dHB1dCBkaXNwbGF5LgogKiBAcmV0dXJuIHshSXRlcmFibGU8IU9iamVjdD59IEl0ZXJhYmxlIG9mIG5leHQgc3RlcHMuCiAqLwpmdW5jdGlvbiogdXBsb2FkRmlsZXNTdGVwKGlucHV0SWQsIG91dHB1dElkKSB7CiAgY29uc3QgaW5wdXRFbGVtZW50ID0gZG9jdW1lbnQuZ2V0RWxlbWVudEJ5SWQoaW5wdXRJZCk7CiAgaW5wdXRFbGVtZW50LmRpc2FibGVkID0gZmFsc2U7CgogIGNvbnN0IG91dHB1dEVsZW1lbnQgPSBkb2N1bWVudC5nZXRFbGVtZW50QnlJZChvdXRwdXRJZCk7CiAgb3V0cHV0RWxlbWVudC5pbm5lckhUTUwgPSAnJzsKCiAgY29uc3QgcGlja2VkUHJvbWlzZSA9IG5ldyBQcm9taXNlKChyZXNvbHZlKSA9PiB7CiAgICBpbnB1dEVsZW1lbnQuYWRkRXZlbnRMaXN0ZW5lcignY2hhbmdlJywgKGUpID0+IHsKICAgICAgcmVzb2x2ZShlLnRhcmdldC5maWxlcyk7CiAgICB9KTsKICB9KTsKCiAgY29uc3QgY2FuY2VsID0gZG9jdW1lbnQuY3JlYXRlRWxlbWVudCgnYnV0dG9uJyk7CiAgaW5wdXRFbGVtZW50LnBhcmVudEVsZW1lbnQuYXBwZW5kQ2hpbGQoY2FuY2VsKTsKICBjYW5jZWwudGV4dENvbnRlbnQgPSAnQ2FuY2VsIHVwbG9hZCc7CiAgY29uc3QgY2FuY2VsUHJvbWlzZSA9IG5ldyBQcm9taXNlKChyZXNvbHZlKSA9PiB7CiAgICBjYW5jZWwub25jbGljayA9ICgpID0+IHsKICAgICAgcmVzb2x2ZShudWxsKTsKICAgIH07CiAgfSk7CgogIC8vIENhbmNlbCB1cGxvYWQgaWYgdXNlciBoYXNuJ3QgcGlja2VkIGFueXRoaW5nIGluIHRpbWVvdXQuCiAgY29uc3QgdGltZW91dFByb21pc2UgPSBuZXcgUHJvbWlzZSgocmVzb2x2ZSkgPT4gewogICAgc2V0VGltZW91dCgoKSA9PiB7CiAgICAgIHJlc29sdmUobnVsbCk7CiAgICB9LCBGSUxFX0NIQU5HRV9USU1FT1VUX01TKTsKICB9KTsKCiAgLy8gV2FpdCBmb3IgdGhlIHVzZXIgdG8gcGljayB0aGUgZmlsZXMuCiAgY29uc3QgZmlsZXMgPSB5aWVsZCB7CiAgICBwcm9taXNlOiBQcm9taXNlLnJhY2UoW3BpY2tlZFByb21pc2UsIHRpbWVvdXRQcm9taXNlLCBjYW5jZWxQcm9taXNlXSksCiAgICByZXNwb25zZTogewogICAgICBhY3Rpb246ICdzdGFydGluZycsCiAgICB9CiAgfTsKCiAgaWYgKCFmaWxlcykgewogICAgcmV0dXJuIHsKICAgICAgcmVzcG9uc2U6IHsKICAgICAgICBhY3Rpb246ICdjb21wbGV0ZScsCiAgICAgIH0KICAgIH07CiAgfQoKICBjYW5jZWwucmVtb3ZlKCk7CgogIC8vIERpc2FibGUgdGhlIGlucHV0IGVsZW1lbnQgc2luY2UgZnVydGhlciBwaWNrcyBhcmUgbm90IGFsbG93ZWQuCiAgaW5wdXRFbGVtZW50LmRpc2FibGVkID0gdHJ1ZTsKCiAgZm9yIChjb25zdCBmaWxlIG9mIGZpbGVzKSB7CiAgICBjb25zdCBsaSA9IGRvY3VtZW50LmNyZWF0ZUVsZW1lbnQoJ2xpJyk7CiAgICBsaS5hcHBlbmQoc3BhbihmaWxlLm5hbWUsIHtmb250V2VpZ2h0OiAnYm9sZCd9KSk7CiAgICBsaS5hcHBlbmQoc3BhbigKICAgICAgICBgKCR7ZmlsZS50eXBlIHx8ICduL2EnfSkgLSAke2ZpbGUuc2l6ZX0gYnl0ZXMsIGAgKwogICAgICAgIGBsYXN0IG1vZGlmaWVkOiAkewogICAgICAgICAgICBmaWxlLmxhc3RNb2RpZmllZERhdGUgPyBmaWxlLmxhc3RNb2RpZmllZERhdGUudG9Mb2NhbGVEYXRlU3RyaW5nKCkgOgogICAgICAgICAgICAgICAgICAgICAgICAgICAgICAgICAgICAnbi9hJ30gLSBgKSk7CiAgICBjb25zdCBwZXJjZW50ID0gc3BhbignMCUgZG9uZScpOwogICAgbGkuYXBwZW5kQ2hpbGQocGVyY2VudCk7CgogICAgb3V0cHV0RWxlbWVudC5hcHBlbmRDaGlsZChsaSk7CgogICAgY29uc3QgZmlsZURhdGFQcm9taXNlID0gbmV3IFByb21pc2UoKHJlc29sdmUpID0+IHsKICAgICAgY29uc3QgcmVhZGVyID0gbmV3IEZpbGVSZWFkZXIoKTsKICAgICAgcmVhZGVyLm9ubG9hZCA9IChlKSA9PiB7CiAgICAgICAgcmVzb2x2ZShlLnRhcmdldC5yZXN1bHQpOwogICAgICB9OwogICAgICByZWFkZXIucmVhZEFzQXJyYXlCdWZmZXIoZmlsZSk7CiAgICB9KTsKICAgIC8vIFdhaXQgZm9yIHRoZSBkYXRhIHRvIGJlIHJlYWR5LgogICAgbGV0IGZpbGVEYXRhID0geWllbGQgewogICAgICBwcm9taXNlOiBmaWxlRGF0YVByb21pc2UsCiAgICAgIHJlc3BvbnNlOiB7CiAgICAgICAgYWN0aW9uOiAnY29udGludWUnLAogICAgICB9CiAgICB9OwoKICAgIC8vIFVzZSBhIGNodW5rZWQgc2VuZGluZyB0byBhdm9pZCBtZXNzYWdlIHNpemUgbGltaXRzLiBTZWUgYi82MjExNTY2MC4KICAgIGxldCBwb3NpdGlvbiA9IDA7CiAgICB3aGlsZSAocG9zaXRpb24gPCBmaWxlRGF0YS5ieXRlTGVuZ3RoKSB7CiAgICAgIGNvbnN0IGxlbmd0aCA9IE1hdGgubWluKGZpbGVEYXRhLmJ5dGVMZW5ndGggLSBwb3NpdGlvbiwgTUFYX1BBWUxPQURfU0laRSk7CiAgICAgIGNvbnN0IGNodW5rID0gbmV3IFVpbnQ4QXJyYXkoZmlsZURhdGEsIHBvc2l0aW9uLCBsZW5ndGgpOwogICAgICBwb3NpdGlvbiArPSBsZW5ndGg7CgogICAgICBjb25zdCBiYXNlNjQgPSBidG9hKFN0cmluZy5mcm9tQ2hhckNvZGUuYXBwbHkobnVsbCwgY2h1bmspKTsKICAgICAgeWllbGQgewogICAgICAgIHJlc3BvbnNlOiB7CiAgICAgICAgICBhY3Rpb246ICdhcHBlbmQnLAogICAgICAgICAgZmlsZTogZmlsZS5uYW1lLAogICAgICAgICAgZGF0YTogYmFzZTY0LAogICAgICAgIH0sCiAgICAgIH07CiAgICAgIHBlcmNlbnQudGV4dENvbnRlbnQgPQogICAgICAgICAgYCR7TWF0aC5yb3VuZCgocG9zaXRpb24gLyBmaWxlRGF0YS5ieXRlTGVuZ3RoKSAqIDEwMCl9JSBkb25lYDsKICAgIH0KICB9CgogIC8vIEFsbCBkb25lLgogIHlpZWxkIHsKICAgIHJlc3BvbnNlOiB7CiAgICAgIGFjdGlvbjogJ2NvbXBsZXRlJywKICAgIH0KICB9Owp9CgpzY29wZS5nb29nbGUgPSBzY29wZS5nb29nbGUgfHwge307CnNjb3BlLmdvb2dsZS5jb2xhYiA9IHNjb3BlLmdvb2dsZS5jb2xhYiB8fCB7fTsKc2NvcGUuZ29vZ2xlLmNvbGFiLl9maWxlcyA9IHsKICBfdXBsb2FkRmlsZXMsCiAgX3VwbG9hZEZpbGVzQ29udGludWUsCn07Cn0pKHNlbGYpOwo=",
              "ok": true,
              "headers": [
                [
                  "content-type",
                  "application/javascript"
                ]
              ],
              "status": 200,
              "status_text": ""
            }
          },
          "base_uri": "https://localhost:8080/",
          "height": 74
        },
        "outputId": "07c0f604-7a4e-4066-966d-caf5c82474b3"
      },
      "source": [
        "from google.colab import files\n",
        "uploaded = files.upload()"
      ],
      "execution_count": 1,
      "outputs": [
        {
          "output_type": "display_data",
          "data": {
            "text/html": [
              "\n",
              "     <input type=\"file\" id=\"files-2fcd2c50-ca39-421b-b456-30c1e105d7b4\" name=\"files[]\" multiple disabled />\n",
              "     <output id=\"result-2fcd2c50-ca39-421b-b456-30c1e105d7b4\">\n",
              "      Upload widget is only available when the cell has been executed in the\n",
              "      current browser session. Please rerun this cell to enable.\n",
              "      </output>\n",
              "      <script src=\"/nbextensions/google.colab/files.js\"></script> "
            ],
            "text/plain": [
              "<IPython.core.display.HTML object>"
            ]
          },
          "metadata": {
            "tags": []
          }
        },
        {
          "output_type": "stream",
          "text": [
            "Saving phishing.csv to phishing.csv\n"
          ],
          "name": "stdout"
        }
      ]
    },
    {
      "cell_type": "code",
      "metadata": {
        "id": "BuKRHTEOxE9K",
        "colab_type": "code",
        "colab": {}
      },
      "source": [
        "import tensorflow as tf\n",
        "import numpy as np\n",
        "import pandas as pd\n",
        "from tqdm import trange\n",
        "import time\n",
        "from sklearn.cluster import KMeans"
      ],
      "execution_count": 0,
      "outputs": []
    },
    {
      "cell_type": "code",
      "metadata": {
        "id": "nczVufXq1jEG",
        "colab_type": "code",
        "colab": {}
      },
      "source": [
        "data = pd.read_csv('phishing.csv')\n",
        "features = data.columns[1:]\n",
        "data = data.values\n",
        "data = data.T[1:]\n",
        "data = data.T"
      ],
      "execution_count": 0,
      "outputs": []
    },
    {
      "cell_type": "code",
      "metadata": {
        "id": "fixHuWF_105Q",
        "colab_type": "code",
        "colab": {
          "base_uri": "https://localhost:8080/",
          "height": 168
        },
        "outputId": "4c945ec5-6f9b-48ab-c294-9b5f59bc698e"
      },
      "source": [
        "print(features)"
      ],
      "execution_count": 4,
      "outputs": [
        {
          "output_type": "stream",
          "text": [
            "Index(['UsingIP', 'LongURL', 'ShortURL', 'Symbol@', 'Redirecting//',\n",
            "       'PrefixSuffix-', 'SubDomains', 'HTTPS', 'DomainRegLen', 'Favicon',\n",
            "       'NonStdPort', 'HTTPSDomainURL', 'RequestURL', 'AnchorURL',\n",
            "       'LinksInScriptTags', 'ServerFormHandler', 'InfoEmail', 'AbnormalURL',\n",
            "       'WebsiteForwarding', 'StatusBarCust', 'DisableRightClick',\n",
            "       'UsingPopupWindow', 'IframeRedirection', 'AgeofDomain', 'DNSRecording',\n",
            "       'WebsiteTraffic', 'PageRank', 'GoogleIndex', 'LinksPointingToPage',\n",
            "       'StatsReport', 'class'],\n",
            "      dtype='object')\n"
          ],
          "name": "stdout"
        }
      ]
    },
    {
      "cell_type": "code",
      "metadata": {
        "id": "aXeFoEf612sZ",
        "colab_type": "code",
        "colab": {
          "base_uri": "https://localhost:8080/",
          "height": 185
        },
        "outputId": "2c21acf4-2ef8-422a-bb71-10357900335b"
      },
      "source": [
        "data[:5]"
      ],
      "execution_count": 5,
      "outputs": [
        {
          "output_type": "execute_result",
          "data": {
            "text/plain": [
              "array([[ 1,  1,  1,  1,  1, -1,  0,  1, -1,  1,  1, -1,  1,  0, -1, -1,\n",
              "         1,  1,  0,  1,  1,  1,  1, -1, -1,  0, -1,  1,  1,  1, -1],\n",
              "       [ 1,  0,  1,  1,  1, -1, -1, -1, -1,  1,  1, -1,  1,  0, -1, -1,\n",
              "        -1, -1,  0,  1,  1,  1,  1,  1, -1,  1, -1,  1,  0, -1, -1],\n",
              "       [ 1,  0,  1,  1,  1, -1, -1, -1,  1,  1,  1, -1, -1,  0,  0, -1,\n",
              "         1,  1,  0,  1,  1,  1,  1, -1, -1,  1, -1,  1, -1,  1, -1],\n",
              "       [ 1,  0, -1,  1,  1, -1,  1,  1, -1,  1,  1,  1,  1,  0,  0, -1,\n",
              "         1,  1,  0, -1,  1, -1,  1, -1, -1,  0, -1,  1,  1,  1,  1],\n",
              "       [-1,  0, -1,  1, -1, -1,  1,  1, -1,  1,  1, -1,  1,  0,  0, -1,\n",
              "        -1, -1,  0,  1,  1,  1,  1,  1,  1,  1, -1,  1, -1, -1,  1]])"
            ]
          },
          "metadata": {
            "tags": []
          },
          "execution_count": 5
        }
      ]
    },
    {
      "cell_type": "markdown",
      "metadata": {
        "id": "FjNrDsLL2C6Q",
        "colab_type": "text"
      },
      "source": [
        "X, Y splitter. Also creation of only normal cases and phishing cases as well as random"
      ]
    },
    {
      "cell_type": "code",
      "metadata": {
        "id": "MwOvD8zQ2GUW",
        "colab_type": "code",
        "colab": {}
      },
      "source": [
        "X = data.T[:-1]\n",
        "X = X.T\n",
        "Y = data.T[-1]\n",
        "Y = np.array([0 if i==-1 else 1 for i in Y])\n",
        "\n",
        "shuffled_indexes = np.array(range(X.shape[0]))\n",
        "np.random.shuffle(shuffled_indexes)\n",
        "\n",
        "X_random = X[shuffled_indexes]\n",
        "Y_random = Y[shuffled_indexes]\n",
        "\n",
        "X_train, X_test = X_random[:int(0.8*X_random.shape[0])], X_random[int(0.8*X_random.shape[0]):]\n",
        "Y_train, Y_test = Y_random[:int(0.8*X_random.shape[0])], Y_random[int(0.8*X_random.shape[0]):]\n",
        "\n",
        "normal_webistes = np.array([X[index] for index in range(Y.shape[0]) if Y[index] == 1])\n",
        "phishing_webistes = np.array([X[index] for index in range(Y.shape[0]) if Y[index] == 0])"
      ],
      "execution_count": 0,
      "outputs": []
    },
    {
      "cell_type": "code",
      "metadata": {
        "id": "Q92WjFz-2u_B",
        "colab_type": "code",
        "colab": {
          "base_uri": "https://localhost:8080/",
          "height": 168
        },
        "outputId": "ebed0db9-50c1-415b-b241-58ec1b2523e4"
      },
      "source": [
        "print(normal_webistes.shape)\n",
        "print(phishing_webistes.shape)\n",
        "print(X_random)"
      ],
      "execution_count": 7,
      "outputs": [
        {
          "output_type": "stream",
          "text": [
            "(6157, 30)\n",
            "(4897, 30)\n",
            "[[ 1 -1 -1 ... -1  0  1]\n",
            " [ 1 -1  1 ...  1  0  1]\n",
            " [ 1  1  1 ...  1  0  1]\n",
            " ...\n",
            " [-1 -1  1 ...  1  1  1]\n",
            " [ 1 -1  1 ...  1  0  1]\n",
            " [-1 -1 -1 ... -1  0  1]]\n"
          ],
          "name": "stdout"
        }
      ]
    },
    {
      "cell_type": "markdown",
      "metadata": {
        "id": "COV1FyAY38UA",
        "colab_type": "text"
      },
      "source": [
        "##SUPERVISED"
      ]
    },
    {
      "cell_type": "markdown",
      "metadata": {
        "id": "hcBbrHYH1_ut",
        "colab_type": "text"
      },
      "source": [
        "LOGISTIC REGRESSION"
      ]
    },
    {
      "cell_type": "code",
      "metadata": {
        "id": "J5P4XRJK15lI",
        "colab_type": "code",
        "colab": {
          "base_uri": "https://localhost:8080/",
          "height": 1000
        },
        "outputId": "9b29d2b5-dab9-4bf2-e03d-39b93f437051"
      },
      "source": [
        "model = tf.keras.models.Sequential([\n",
        "                                      tf.keras.layers.Dense(1, activation='sigmoid', kernel_regularizer=tf.keras.regularizers.l1(l=0.001))\n",
        "  ])\n",
        "model.compile(optimizer='adam', loss='binary_crossentropy', metrics=['accuracy'])\n",
        "history = model.fit(X_train, Y_train, epochs=100,verbose=1, validation_data=(X_test, Y_test))"
      ],
      "execution_count": 8,
      "outputs": [
        {
          "output_type": "stream",
          "text": [
            "Epoch 1/100\n",
            "277/277 [==============================] - 1s 2ms/step - loss: 0.6043 - accuracy: 0.6943 - val_loss: 0.4832 - val_accuracy: 0.7956\n",
            "Epoch 2/100\n",
            "277/277 [==============================] - 0s 1ms/step - loss: 0.4143 - accuracy: 0.8477 - val_loss: 0.3800 - val_accuracy: 0.8661\n",
            "Epoch 3/100\n",
            "277/277 [==============================] - 0s 1ms/step - loss: 0.3348 - accuracy: 0.8987 - val_loss: 0.3254 - val_accuracy: 0.8991\n",
            "Epoch 4/100\n",
            "277/277 [==============================] - 0s 1ms/step - loss: 0.2905 - accuracy: 0.9162 - val_loss: 0.2939 - val_accuracy: 0.9014\n",
            "Epoch 5/100\n",
            "277/277 [==============================] - 0s 1ms/step - loss: 0.2635 - accuracy: 0.9215 - val_loss: 0.2737 - val_accuracy: 0.9046\n",
            "Epoch 6/100\n",
            "277/277 [==============================] - 0s 1ms/step - loss: 0.2457 - accuracy: 0.9258 - val_loss: 0.2603 - val_accuracy: 0.9068\n",
            "Epoch 7/100\n",
            "277/277 [==============================] - 0s 1ms/step - loss: 0.2335 - accuracy: 0.9264 - val_loss: 0.2511 - val_accuracy: 0.9104\n",
            "Epoch 8/100\n",
            "277/277 [==============================] - 0s 1ms/step - loss: 0.2245 - accuracy: 0.9259 - val_loss: 0.2447 - val_accuracy: 0.9091\n",
            "Epoch 9/100\n",
            "277/277 [==============================] - 0s 1ms/step - loss: 0.2184 - accuracy: 0.9256 - val_loss: 0.2400 - val_accuracy: 0.9109\n",
            "Epoch 10/100\n",
            "277/277 [==============================] - 0s 1ms/step - loss: 0.2134 - accuracy: 0.9250 - val_loss: 0.2359 - val_accuracy: 0.9086\n",
            "Epoch 11/100\n",
            "277/277 [==============================] - 0s 1ms/step - loss: 0.2098 - accuracy: 0.9254 - val_loss: 0.2331 - val_accuracy: 0.9109\n",
            "Epoch 12/100\n",
            "277/277 [==============================] - 0s 1ms/step - loss: 0.2067 - accuracy: 0.9277 - val_loss: 0.2313 - val_accuracy: 0.9145\n",
            "Epoch 13/100\n",
            "277/277 [==============================] - 0s 1ms/step - loss: 0.2046 - accuracy: 0.9284 - val_loss: 0.2291 - val_accuracy: 0.9150\n",
            "Epoch 14/100\n",
            "277/277 [==============================] - 0s 1ms/step - loss: 0.2028 - accuracy: 0.9284 - val_loss: 0.2275 - val_accuracy: 0.9150\n",
            "Epoch 15/100\n",
            "277/277 [==============================] - 0s 1ms/step - loss: 0.2014 - accuracy: 0.9282 - val_loss: 0.2265 - val_accuracy: 0.9141\n",
            "Epoch 16/100\n",
            "277/277 [==============================] - 0s 1ms/step - loss: 0.2001 - accuracy: 0.9286 - val_loss: 0.2255 - val_accuracy: 0.9141\n",
            "Epoch 17/100\n",
            "277/277 [==============================] - 0s 1ms/step - loss: 0.1991 - accuracy: 0.9289 - val_loss: 0.2246 - val_accuracy: 0.9168\n",
            "Epoch 18/100\n",
            "277/277 [==============================] - 0s 2ms/step - loss: 0.1985 - accuracy: 0.9291 - val_loss: 0.2241 - val_accuracy: 0.9159\n",
            "Epoch 19/100\n",
            "277/277 [==============================] - 0s 1ms/step - loss: 0.1978 - accuracy: 0.9290 - val_loss: 0.2238 - val_accuracy: 0.9154\n",
            "Epoch 20/100\n",
            "277/277 [==============================] - 0s 1ms/step - loss: 0.1975 - accuracy: 0.9293 - val_loss: 0.2229 - val_accuracy: 0.9159\n",
            "Epoch 21/100\n",
            "277/277 [==============================] - 0s 1ms/step - loss: 0.1972 - accuracy: 0.9290 - val_loss: 0.2224 - val_accuracy: 0.9163\n",
            "Epoch 22/100\n",
            "277/277 [==============================] - 0s 1ms/step - loss: 0.1966 - accuracy: 0.9298 - val_loss: 0.2219 - val_accuracy: 0.9163\n",
            "Epoch 23/100\n",
            "277/277 [==============================] - 0s 2ms/step - loss: 0.1963 - accuracy: 0.9293 - val_loss: 0.2217 - val_accuracy: 0.9159\n",
            "Epoch 24/100\n",
            "277/277 [==============================] - 0s 1ms/step - loss: 0.1961 - accuracy: 0.9298 - val_loss: 0.2214 - val_accuracy: 0.9163\n",
            "Epoch 25/100\n",
            "277/277 [==============================] - 0s 1ms/step - loss: 0.1959 - accuracy: 0.9292 - val_loss: 0.2213 - val_accuracy: 0.9163\n",
            "Epoch 26/100\n",
            "277/277 [==============================] - 0s 1ms/step - loss: 0.1957 - accuracy: 0.9293 - val_loss: 0.2212 - val_accuracy: 0.9159\n",
            "Epoch 27/100\n",
            "277/277 [==============================] - 0s 1ms/step - loss: 0.1956 - accuracy: 0.9300 - val_loss: 0.2212 - val_accuracy: 0.9159\n",
            "Epoch 28/100\n",
            "277/277 [==============================] - 0s 1ms/step - loss: 0.1954 - accuracy: 0.9300 - val_loss: 0.2208 - val_accuracy: 0.9181\n",
            "Epoch 29/100\n",
            "277/277 [==============================] - 0s 1ms/step - loss: 0.1953 - accuracy: 0.9294 - val_loss: 0.2207 - val_accuracy: 0.9177\n",
            "Epoch 30/100\n",
            "277/277 [==============================] - 0s 1ms/step - loss: 0.1953 - accuracy: 0.9294 - val_loss: 0.2208 - val_accuracy: 0.9168\n",
            "Epoch 31/100\n",
            "277/277 [==============================] - 0s 1ms/step - loss: 0.1951 - accuracy: 0.9301 - val_loss: 0.2206 - val_accuracy: 0.9168\n",
            "Epoch 32/100\n",
            "277/277 [==============================] - 0s 1ms/step - loss: 0.1950 - accuracy: 0.9302 - val_loss: 0.2210 - val_accuracy: 0.9186\n",
            "Epoch 33/100\n",
            "277/277 [==============================] - 0s 1ms/step - loss: 0.1950 - accuracy: 0.9300 - val_loss: 0.2204 - val_accuracy: 0.9168\n",
            "Epoch 34/100\n",
            "277/277 [==============================] - 0s 1ms/step - loss: 0.1948 - accuracy: 0.9299 - val_loss: 0.2210 - val_accuracy: 0.9181\n",
            "Epoch 35/100\n",
            "277/277 [==============================] - 0s 1ms/step - loss: 0.1948 - accuracy: 0.9291 - val_loss: 0.2201 - val_accuracy: 0.9172\n",
            "Epoch 36/100\n",
            "277/277 [==============================] - 0s 1ms/step - loss: 0.1948 - accuracy: 0.9310 - val_loss: 0.2206 - val_accuracy: 0.9186\n",
            "Epoch 37/100\n",
            "277/277 [==============================] - 0s 1ms/step - loss: 0.1945 - accuracy: 0.9305 - val_loss: 0.2201 - val_accuracy: 0.9186\n",
            "Epoch 38/100\n",
            "277/277 [==============================] - 0s 1ms/step - loss: 0.1946 - accuracy: 0.9298 - val_loss: 0.2202 - val_accuracy: 0.9181\n",
            "Epoch 39/100\n",
            "277/277 [==============================] - 0s 1ms/step - loss: 0.1946 - accuracy: 0.9298 - val_loss: 0.2201 - val_accuracy: 0.9181\n",
            "Epoch 40/100\n",
            "277/277 [==============================] - 0s 1ms/step - loss: 0.1945 - accuracy: 0.9309 - val_loss: 0.2199 - val_accuracy: 0.9186\n",
            "Epoch 41/100\n",
            "277/277 [==============================] - 0s 1ms/step - loss: 0.1944 - accuracy: 0.9298 - val_loss: 0.2199 - val_accuracy: 0.9181\n",
            "Epoch 42/100\n",
            "277/277 [==============================] - 0s 1ms/step - loss: 0.1945 - accuracy: 0.9303 - val_loss: 0.2197 - val_accuracy: 0.9195\n",
            "Epoch 43/100\n",
            "277/277 [==============================] - 0s 2ms/step - loss: 0.1944 - accuracy: 0.9297 - val_loss: 0.2198 - val_accuracy: 0.9190\n",
            "Epoch 44/100\n",
            "277/277 [==============================] - 0s 1ms/step - loss: 0.1944 - accuracy: 0.9303 - val_loss: 0.2201 - val_accuracy: 0.9190\n",
            "Epoch 45/100\n",
            "277/277 [==============================] - 0s 1ms/step - loss: 0.1942 - accuracy: 0.9310 - val_loss: 0.2196 - val_accuracy: 0.9186\n",
            "Epoch 46/100\n",
            "277/277 [==============================] - 0s 1ms/step - loss: 0.1941 - accuracy: 0.9305 - val_loss: 0.2207 - val_accuracy: 0.9177\n",
            "Epoch 47/100\n",
            "277/277 [==============================] - 0s 1ms/step - loss: 0.1942 - accuracy: 0.9312 - val_loss: 0.2209 - val_accuracy: 0.9181\n",
            "Epoch 48/100\n",
            "277/277 [==============================] - 0s 1ms/step - loss: 0.1942 - accuracy: 0.9314 - val_loss: 0.2198 - val_accuracy: 0.9199\n",
            "Epoch 49/100\n",
            "277/277 [==============================] - 0s 1ms/step - loss: 0.1940 - accuracy: 0.9314 - val_loss: 0.2194 - val_accuracy: 0.9186\n",
            "Epoch 50/100\n",
            "277/277 [==============================] - 0s 1ms/step - loss: 0.1941 - accuracy: 0.9303 - val_loss: 0.2199 - val_accuracy: 0.9190\n",
            "Epoch 51/100\n",
            "277/277 [==============================] - 0s 1ms/step - loss: 0.1941 - accuracy: 0.9311 - val_loss: 0.2199 - val_accuracy: 0.9199\n",
            "Epoch 52/100\n",
            "277/277 [==============================] - 0s 1ms/step - loss: 0.1941 - accuracy: 0.9308 - val_loss: 0.2193 - val_accuracy: 0.9186\n",
            "Epoch 53/100\n",
            "277/277 [==============================] - 0s 1ms/step - loss: 0.1941 - accuracy: 0.9309 - val_loss: 0.2192 - val_accuracy: 0.9190\n",
            "Epoch 54/100\n",
            "277/277 [==============================] - 0s 2ms/step - loss: 0.1939 - accuracy: 0.9307 - val_loss: 0.2194 - val_accuracy: 0.9190\n",
            "Epoch 55/100\n",
            "277/277 [==============================] - 0s 2ms/step - loss: 0.1940 - accuracy: 0.9319 - val_loss: 0.2191 - val_accuracy: 0.9199\n",
            "Epoch 56/100\n",
            "277/277 [==============================] - 0s 1ms/step - loss: 0.1938 - accuracy: 0.9320 - val_loss: 0.2200 - val_accuracy: 0.9186\n",
            "Epoch 57/100\n",
            "277/277 [==============================] - 0s 1ms/step - loss: 0.1938 - accuracy: 0.9315 - val_loss: 0.2190 - val_accuracy: 0.9186\n",
            "Epoch 58/100\n",
            "277/277 [==============================] - 0s 1ms/step - loss: 0.1938 - accuracy: 0.9307 - val_loss: 0.2189 - val_accuracy: 0.9199\n",
            "Epoch 59/100\n",
            "277/277 [==============================] - 0s 1ms/step - loss: 0.1937 - accuracy: 0.9318 - val_loss: 0.2193 - val_accuracy: 0.9195\n",
            "Epoch 60/100\n",
            "277/277 [==============================] - 0s 1ms/step - loss: 0.1938 - accuracy: 0.9310 - val_loss: 0.2191 - val_accuracy: 0.9186\n",
            "Epoch 61/100\n",
            "277/277 [==============================] - 0s 1ms/step - loss: 0.1939 - accuracy: 0.9320 - val_loss: 0.2188 - val_accuracy: 0.9190\n",
            "Epoch 62/100\n",
            "277/277 [==============================] - 0s 1ms/step - loss: 0.1938 - accuracy: 0.9308 - val_loss: 0.2191 - val_accuracy: 0.9204\n",
            "Epoch 63/100\n",
            "277/277 [==============================] - 0s 1ms/step - loss: 0.1938 - accuracy: 0.9318 - val_loss: 0.2193 - val_accuracy: 0.9190\n",
            "Epoch 64/100\n",
            "277/277 [==============================] - 0s 1ms/step - loss: 0.1936 - accuracy: 0.9309 - val_loss: 0.2187 - val_accuracy: 0.9190\n",
            "Epoch 65/100\n",
            "277/277 [==============================] - 0s 1ms/step - loss: 0.1936 - accuracy: 0.9326 - val_loss: 0.2187 - val_accuracy: 0.9186\n",
            "Epoch 66/100\n",
            "277/277 [==============================] - 0s 1ms/step - loss: 0.1936 - accuracy: 0.9310 - val_loss: 0.2186 - val_accuracy: 0.9186\n",
            "Epoch 67/100\n",
            "277/277 [==============================] - 0s 1ms/step - loss: 0.1935 - accuracy: 0.9310 - val_loss: 0.2198 - val_accuracy: 0.9186\n",
            "Epoch 68/100\n",
            "277/277 [==============================] - 0s 1ms/step - loss: 0.1936 - accuracy: 0.9320 - val_loss: 0.2191 - val_accuracy: 0.9190\n",
            "Epoch 69/100\n",
            "277/277 [==============================] - 0s 1ms/step - loss: 0.1937 - accuracy: 0.9318 - val_loss: 0.2186 - val_accuracy: 0.9204\n",
            "Epoch 70/100\n",
            "277/277 [==============================] - 0s 1ms/step - loss: 0.1936 - accuracy: 0.9317 - val_loss: 0.2192 - val_accuracy: 0.9181\n",
            "Epoch 71/100\n",
            "277/277 [==============================] - 0s 1ms/step - loss: 0.1935 - accuracy: 0.9320 - val_loss: 0.2190 - val_accuracy: 0.9190\n",
            "Epoch 72/100\n",
            "277/277 [==============================] - 0s 1ms/step - loss: 0.1936 - accuracy: 0.9315 - val_loss: 0.2185 - val_accuracy: 0.9190\n",
            "Epoch 73/100\n",
            "277/277 [==============================] - 0s 1ms/step - loss: 0.1937 - accuracy: 0.9316 - val_loss: 0.2186 - val_accuracy: 0.9209\n",
            "Epoch 74/100\n",
            "277/277 [==============================] - 0s 2ms/step - loss: 0.1935 - accuracy: 0.9319 - val_loss: 0.2191 - val_accuracy: 0.9186\n",
            "Epoch 75/100\n",
            "277/277 [==============================] - 0s 1ms/step - loss: 0.1936 - accuracy: 0.9310 - val_loss: 0.2184 - val_accuracy: 0.9186\n",
            "Epoch 76/100\n",
            "277/277 [==============================] - 0s 1ms/step - loss: 0.1935 - accuracy: 0.9320 - val_loss: 0.2191 - val_accuracy: 0.9190\n",
            "Epoch 77/100\n",
            "277/277 [==============================] - 0s 1ms/step - loss: 0.1936 - accuracy: 0.9319 - val_loss: 0.2185 - val_accuracy: 0.9195\n",
            "Epoch 78/100\n",
            "277/277 [==============================] - 0s 1ms/step - loss: 0.1934 - accuracy: 0.9323 - val_loss: 0.2183 - val_accuracy: 0.9199\n",
            "Epoch 79/100\n",
            "277/277 [==============================] - 0s 1ms/step - loss: 0.1935 - accuracy: 0.9321 - val_loss: 0.2190 - val_accuracy: 0.9186\n",
            "Epoch 80/100\n",
            "277/277 [==============================] - 0s 1ms/step - loss: 0.1935 - accuracy: 0.9323 - val_loss: 0.2186 - val_accuracy: 0.9199\n",
            "Epoch 81/100\n",
            "277/277 [==============================] - 0s 1ms/step - loss: 0.1935 - accuracy: 0.9318 - val_loss: 0.2185 - val_accuracy: 0.9209\n",
            "Epoch 82/100\n",
            "277/277 [==============================] - 0s 1ms/step - loss: 0.1934 - accuracy: 0.9319 - val_loss: 0.2184 - val_accuracy: 0.9213\n",
            "Epoch 83/100\n",
            "277/277 [==============================] - 0s 1ms/step - loss: 0.1934 - accuracy: 0.9323 - val_loss: 0.2183 - val_accuracy: 0.9199\n",
            "Epoch 84/100\n",
            "277/277 [==============================] - 0s 1ms/step - loss: 0.1936 - accuracy: 0.9317 - val_loss: 0.2185 - val_accuracy: 0.9199\n",
            "Epoch 85/100\n",
            "277/277 [==============================] - 0s 1ms/step - loss: 0.1933 - accuracy: 0.9310 - val_loss: 0.2181 - val_accuracy: 0.9204\n",
            "Epoch 86/100\n",
            "277/277 [==============================] - 0s 1ms/step - loss: 0.1933 - accuracy: 0.9328 - val_loss: 0.2193 - val_accuracy: 0.9177\n",
            "Epoch 87/100\n",
            "277/277 [==============================] - 0s 1ms/step - loss: 0.1936 - accuracy: 0.9319 - val_loss: 0.2185 - val_accuracy: 0.9199\n",
            "Epoch 88/100\n",
            "277/277 [==============================] - 0s 1ms/step - loss: 0.1934 - accuracy: 0.9319 - val_loss: 0.2182 - val_accuracy: 0.9195\n",
            "Epoch 89/100\n",
            "277/277 [==============================] - 0s 1ms/step - loss: 0.1932 - accuracy: 0.9311 - val_loss: 0.2189 - val_accuracy: 0.9186\n",
            "Epoch 90/100\n",
            "277/277 [==============================] - 0s 1ms/step - loss: 0.1933 - accuracy: 0.9323 - val_loss: 0.2182 - val_accuracy: 0.9204\n",
            "Epoch 91/100\n",
            "277/277 [==============================] - 0s 1ms/step - loss: 0.1933 - accuracy: 0.9326 - val_loss: 0.2187 - val_accuracy: 0.9195\n",
            "Epoch 92/100\n",
            "277/277 [==============================] - 0s 1ms/step - loss: 0.1933 - accuracy: 0.9311 - val_loss: 0.2189 - val_accuracy: 0.9195\n",
            "Epoch 93/100\n",
            "277/277 [==============================] - 0s 1ms/step - loss: 0.1934 - accuracy: 0.9320 - val_loss: 0.2185 - val_accuracy: 0.9195\n",
            "Epoch 94/100\n",
            "277/277 [==============================] - 0s 1ms/step - loss: 0.1932 - accuracy: 0.9321 - val_loss: 0.2187 - val_accuracy: 0.9190\n",
            "Epoch 95/100\n",
            "277/277 [==============================] - 0s 1ms/step - loss: 0.1932 - accuracy: 0.9321 - val_loss: 0.2190 - val_accuracy: 0.9186\n",
            "Epoch 96/100\n",
            "277/277 [==============================] - 0s 1ms/step - loss: 0.1932 - accuracy: 0.9314 - val_loss: 0.2184 - val_accuracy: 0.9195\n",
            "Epoch 97/100\n",
            "277/277 [==============================] - 0s 1ms/step - loss: 0.1933 - accuracy: 0.9320 - val_loss: 0.2182 - val_accuracy: 0.9213\n",
            "Epoch 98/100\n",
            "277/277 [==============================] - 0s 1ms/step - loss: 0.1933 - accuracy: 0.9324 - val_loss: 0.2182 - val_accuracy: 0.9199\n",
            "Epoch 99/100\n",
            "277/277 [==============================] - 0s 1ms/step - loss: 0.1932 - accuracy: 0.9318 - val_loss: 0.2182 - val_accuracy: 0.9204\n",
            "Epoch 100/100\n",
            "277/277 [==============================] - 0s 2ms/step - loss: 0.1931 - accuracy: 0.9326 - val_loss: 0.2191 - val_accuracy: 0.9181\n"
          ],
          "name": "stdout"
        }
      ]
    },
    {
      "cell_type": "code",
      "metadata": {
        "id": "97_f0p0f8RaU",
        "colab_type": "code",
        "colab": {
          "base_uri": "https://localhost:8080/",
          "height": 50
        },
        "outputId": "a3605012-f01d-432a-99d6-dffb6d818b61"
      },
      "source": [
        "score = model.evaluate(X_train, Y_train, verbose=0) \n",
        "print('Train:', 'loss:',score[0], 'accuracy:',score[1])\n",
        "score = model.evaluate(X_test, Y_test, verbose=0) \n",
        "print('Test:', 'loss:',score[0], 'accuracy:',score[1])"
      ],
      "execution_count": 9,
      "outputs": [
        {
          "output_type": "stream",
          "text": [
            "Train: loss: 0.19315561652183533 accuracy: 0.9314712285995483\n",
            "Test: loss: 0.21913272142410278 accuracy: 0.9181365966796875\n"
          ],
          "name": "stdout"
        }
      ]
    },
    {
      "cell_type": "markdown",
      "metadata": {
        "id": "pMYGYdN97daK",
        "colab_type": "text"
      },
      "source": [
        "ANN:"
      ]
    },
    {
      "cell_type": "code",
      "metadata": {
        "id": "3uwsSiLN6rYG",
        "colab_type": "code",
        "colab": {
          "base_uri": "https://localhost:8080/",
          "height": 1000
        },
        "outputId": "15df883d-7ffe-4880-c8c4-92f553b92a2d"
      },
      "source": [
        "model = tf.keras.models.Sequential([\n",
        "                                    tf.keras.layers.Dense(15, activation='relu'),\n",
        "                                    tf.keras.layers.Dropout(0.2),\n",
        "                                    tf.keras.layers.Dense(7, activation='relu'),\n",
        "                                    tf.keras.layers.Dropout(0.2),\n",
        "                                    tf.keras.layers.Dense(1, activation='sigmoid', kernel_regularizer=tf.keras.regularizers.l1(l=0.001))\n",
        "  ])\n",
        "model.compile(optimizer='adam', loss='binary_crossentropy', metrics=['accuracy'])\n",
        "history = model.fit(X_train, Y_train, epochs=100,verbose=1, validation_data=(X_test, Y_test))"
      ],
      "execution_count": 10,
      "outputs": [
        {
          "output_type": "stream",
          "text": [
            "Epoch 1/100\n",
            "277/277 [==============================] - 1s 2ms/step - loss: 0.5006 - accuracy: 0.7690 - val_loss: 0.3013 - val_accuracy: 0.8942\n",
            "Epoch 2/100\n",
            "277/277 [==============================] - 0s 2ms/step - loss: 0.2938 - accuracy: 0.8958 - val_loss: 0.2488 - val_accuracy: 0.9077\n",
            "Epoch 3/100\n",
            "277/277 [==============================] - 0s 2ms/step - loss: 0.2444 - accuracy: 0.9142 - val_loss: 0.2243 - val_accuracy: 0.9154\n",
            "Epoch 4/100\n",
            "277/277 [==============================] - 0s 2ms/step - loss: 0.2305 - accuracy: 0.9203 - val_loss: 0.2203 - val_accuracy: 0.9150\n",
            "Epoch 5/100\n",
            "277/277 [==============================] - 0s 2ms/step - loss: 0.2164 - accuracy: 0.9266 - val_loss: 0.2085 - val_accuracy: 0.9190\n",
            "Epoch 6/100\n",
            "277/277 [==============================] - 0s 2ms/step - loss: 0.2071 - accuracy: 0.9271 - val_loss: 0.1982 - val_accuracy: 0.9231\n",
            "Epoch 7/100\n",
            "277/277 [==============================] - 0s 2ms/step - loss: 0.2001 - accuracy: 0.9305 - val_loss: 0.1918 - val_accuracy: 0.9236\n",
            "Epoch 8/100\n",
            "277/277 [==============================] - 0s 2ms/step - loss: 0.1933 - accuracy: 0.9329 - val_loss: 0.1851 - val_accuracy: 0.9245\n",
            "Epoch 9/100\n",
            "277/277 [==============================] - 0s 2ms/step - loss: 0.1854 - accuracy: 0.9327 - val_loss: 0.1855 - val_accuracy: 0.9263\n",
            "Epoch 10/100\n",
            "277/277 [==============================] - 0s 2ms/step - loss: 0.1869 - accuracy: 0.9315 - val_loss: 0.1816 - val_accuracy: 0.9285\n",
            "Epoch 11/100\n",
            "277/277 [==============================] - 0s 2ms/step - loss: 0.1788 - accuracy: 0.9329 - val_loss: 0.1814 - val_accuracy: 0.9263\n",
            "Epoch 12/100\n",
            "277/277 [==============================] - 0s 2ms/step - loss: 0.1801 - accuracy: 0.9344 - val_loss: 0.1801 - val_accuracy: 0.9285\n",
            "Epoch 13/100\n",
            "277/277 [==============================] - 0s 2ms/step - loss: 0.1758 - accuracy: 0.9375 - val_loss: 0.1746 - val_accuracy: 0.9281\n",
            "Epoch 14/100\n",
            "277/277 [==============================] - 0s 2ms/step - loss: 0.1752 - accuracy: 0.9369 - val_loss: 0.1734 - val_accuracy: 0.9281\n",
            "Epoch 15/100\n",
            "277/277 [==============================] - 0s 2ms/step - loss: 0.1696 - accuracy: 0.9351 - val_loss: 0.1700 - val_accuracy: 0.9294\n",
            "Epoch 16/100\n",
            "277/277 [==============================] - 0s 2ms/step - loss: 0.1698 - accuracy: 0.9355 - val_loss: 0.1705 - val_accuracy: 0.9308\n",
            "Epoch 17/100\n",
            "277/277 [==============================] - 0s 2ms/step - loss: 0.1631 - accuracy: 0.9392 - val_loss: 0.1709 - val_accuracy: 0.9308\n",
            "Epoch 18/100\n",
            "277/277 [==============================] - 0s 2ms/step - loss: 0.1659 - accuracy: 0.9372 - val_loss: 0.1690 - val_accuracy: 0.9308\n",
            "Epoch 19/100\n",
            "277/277 [==============================] - 0s 2ms/step - loss: 0.1632 - accuracy: 0.9389 - val_loss: 0.1656 - val_accuracy: 0.9308\n",
            "Epoch 20/100\n",
            "277/277 [==============================] - 1s 2ms/step - loss: 0.1641 - accuracy: 0.9375 - val_loss: 0.1640 - val_accuracy: 0.9299\n",
            "Epoch 21/100\n",
            "277/277 [==============================] - 0s 2ms/step - loss: 0.1588 - accuracy: 0.9401 - val_loss: 0.1611 - val_accuracy: 0.9308\n",
            "Epoch 22/100\n",
            "277/277 [==============================] - 0s 2ms/step - loss: 0.1588 - accuracy: 0.9404 - val_loss: 0.1594 - val_accuracy: 0.9322\n",
            "Epoch 23/100\n",
            "277/277 [==============================] - 0s 2ms/step - loss: 0.1554 - accuracy: 0.9405 - val_loss: 0.1595 - val_accuracy: 0.9331\n",
            "Epoch 24/100\n",
            "277/277 [==============================] - 0s 2ms/step - loss: 0.1521 - accuracy: 0.9420 - val_loss: 0.1591 - val_accuracy: 0.9371\n",
            "Epoch 25/100\n",
            "277/277 [==============================] - 0s 2ms/step - loss: 0.1540 - accuracy: 0.9438 - val_loss: 0.1563 - val_accuracy: 0.9353\n",
            "Epoch 26/100\n",
            "277/277 [==============================] - 0s 2ms/step - loss: 0.1494 - accuracy: 0.9437 - val_loss: 0.1543 - val_accuracy: 0.9376\n",
            "Epoch 27/100\n",
            "277/277 [==============================] - 0s 2ms/step - loss: 0.1504 - accuracy: 0.9414 - val_loss: 0.1544 - val_accuracy: 0.9367\n",
            "Epoch 28/100\n",
            "277/277 [==============================] - 1s 2ms/step - loss: 0.1487 - accuracy: 0.9433 - val_loss: 0.1543 - val_accuracy: 0.9358\n",
            "Epoch 29/100\n",
            "277/277 [==============================] - 0s 2ms/step - loss: 0.1456 - accuracy: 0.9428 - val_loss: 0.1573 - val_accuracy: 0.9394\n",
            "Epoch 30/100\n",
            "277/277 [==============================] - 0s 2ms/step - loss: 0.1481 - accuracy: 0.9450 - val_loss: 0.1564 - val_accuracy: 0.9349\n",
            "Epoch 31/100\n",
            "277/277 [==============================] - 0s 2ms/step - loss: 0.1428 - accuracy: 0.9447 - val_loss: 0.1528 - val_accuracy: 0.9358\n",
            "Epoch 32/100\n",
            "277/277 [==============================] - 0s 2ms/step - loss: 0.1456 - accuracy: 0.9452 - val_loss: 0.1529 - val_accuracy: 0.9371\n",
            "Epoch 33/100\n",
            "277/277 [==============================] - 0s 2ms/step - loss: 0.1458 - accuracy: 0.9453 - val_loss: 0.1494 - val_accuracy: 0.9385\n",
            "Epoch 34/100\n",
            "277/277 [==============================] - 0s 2ms/step - loss: 0.1438 - accuracy: 0.9483 - val_loss: 0.1511 - val_accuracy: 0.9371\n",
            "Epoch 35/100\n",
            "277/277 [==============================] - 0s 2ms/step - loss: 0.1395 - accuracy: 0.9480 - val_loss: 0.1531 - val_accuracy: 0.9344\n",
            "Epoch 36/100\n",
            "277/277 [==============================] - 0s 2ms/step - loss: 0.1447 - accuracy: 0.9475 - val_loss: 0.1485 - val_accuracy: 0.9371\n",
            "Epoch 37/100\n",
            "277/277 [==============================] - 0s 2ms/step - loss: 0.1417 - accuracy: 0.9478 - val_loss: 0.1489 - val_accuracy: 0.9358\n",
            "Epoch 38/100\n",
            "277/277 [==============================] - 0s 2ms/step - loss: 0.1405 - accuracy: 0.9454 - val_loss: 0.1502 - val_accuracy: 0.9385\n",
            "Epoch 39/100\n",
            "277/277 [==============================] - 0s 2ms/step - loss: 0.1390 - accuracy: 0.9475 - val_loss: 0.1494 - val_accuracy: 0.9358\n",
            "Epoch 40/100\n",
            "277/277 [==============================] - 0s 2ms/step - loss: 0.1357 - accuracy: 0.9482 - val_loss: 0.1516 - val_accuracy: 0.9344\n",
            "Epoch 41/100\n",
            "277/277 [==============================] - 0s 2ms/step - loss: 0.1339 - accuracy: 0.9470 - val_loss: 0.1479 - val_accuracy: 0.9358\n",
            "Epoch 42/100\n",
            "277/277 [==============================] - 0s 2ms/step - loss: 0.1341 - accuracy: 0.9475 - val_loss: 0.1477 - val_accuracy: 0.9398\n",
            "Epoch 43/100\n",
            "277/277 [==============================] - 0s 2ms/step - loss: 0.1376 - accuracy: 0.9457 - val_loss: 0.1464 - val_accuracy: 0.9403\n",
            "Epoch 44/100\n",
            "277/277 [==============================] - 0s 2ms/step - loss: 0.1346 - accuracy: 0.9490 - val_loss: 0.1477 - val_accuracy: 0.9376\n",
            "Epoch 45/100\n",
            "277/277 [==============================] - 0s 2ms/step - loss: 0.1361 - accuracy: 0.9459 - val_loss: 0.1460 - val_accuracy: 0.9426\n",
            "Epoch 46/100\n",
            "277/277 [==============================] - 0s 2ms/step - loss: 0.1344 - accuracy: 0.9501 - val_loss: 0.1473 - val_accuracy: 0.9389\n",
            "Epoch 47/100\n",
            "277/277 [==============================] - 0s 2ms/step - loss: 0.1340 - accuracy: 0.9508 - val_loss: 0.1452 - val_accuracy: 0.9412\n",
            "Epoch 48/100\n",
            "277/277 [==============================] - 0s 2ms/step - loss: 0.1307 - accuracy: 0.9478 - val_loss: 0.1437 - val_accuracy: 0.9408\n",
            "Epoch 49/100\n",
            "277/277 [==============================] - 0s 2ms/step - loss: 0.1311 - accuracy: 0.9493 - val_loss: 0.1467 - val_accuracy: 0.9408\n",
            "Epoch 50/100\n",
            "277/277 [==============================] - 0s 2ms/step - loss: 0.1317 - accuracy: 0.9500 - val_loss: 0.1443 - val_accuracy: 0.9385\n",
            "Epoch 51/100\n",
            "277/277 [==============================] - 0s 2ms/step - loss: 0.1340 - accuracy: 0.9476 - val_loss: 0.1438 - val_accuracy: 0.9398\n",
            "Epoch 52/100\n",
            "277/277 [==============================] - 0s 2ms/step - loss: 0.1282 - accuracy: 0.9509 - val_loss: 0.1458 - val_accuracy: 0.9421\n",
            "Epoch 53/100\n",
            "277/277 [==============================] - 0s 2ms/step - loss: 0.1312 - accuracy: 0.9484 - val_loss: 0.1452 - val_accuracy: 0.9412\n",
            "Epoch 54/100\n",
            "277/277 [==============================] - 0s 2ms/step - loss: 0.1325 - accuracy: 0.9502 - val_loss: 0.1470 - val_accuracy: 0.9389\n",
            "Epoch 55/100\n",
            "277/277 [==============================] - 0s 2ms/step - loss: 0.1287 - accuracy: 0.9495 - val_loss: 0.1465 - val_accuracy: 0.9403\n",
            "Epoch 56/100\n",
            "277/277 [==============================] - 0s 2ms/step - loss: 0.1293 - accuracy: 0.9485 - val_loss: 0.1421 - val_accuracy: 0.9421\n",
            "Epoch 57/100\n",
            "277/277 [==============================] - 0s 2ms/step - loss: 0.1288 - accuracy: 0.9497 - val_loss: 0.1450 - val_accuracy: 0.9412\n",
            "Epoch 58/100\n",
            "277/277 [==============================] - 0s 2ms/step - loss: 0.1257 - accuracy: 0.9516 - val_loss: 0.1436 - val_accuracy: 0.9389\n",
            "Epoch 59/100\n",
            "277/277 [==============================] - 0s 2ms/step - loss: 0.1210 - accuracy: 0.9548 - val_loss: 0.1487 - val_accuracy: 0.9394\n",
            "Epoch 60/100\n",
            "277/277 [==============================] - 0s 2ms/step - loss: 0.1308 - accuracy: 0.9511 - val_loss: 0.1449 - val_accuracy: 0.9421\n",
            "Epoch 61/100\n",
            "277/277 [==============================] - 0s 2ms/step - loss: 0.1280 - accuracy: 0.9492 - val_loss: 0.1412 - val_accuracy: 0.9430\n",
            "Epoch 62/100\n",
            "277/277 [==============================] - 0s 2ms/step - loss: 0.1242 - accuracy: 0.9526 - val_loss: 0.1399 - val_accuracy: 0.9412\n",
            "Epoch 63/100\n",
            "277/277 [==============================] - 0s 2ms/step - loss: 0.1257 - accuracy: 0.9517 - val_loss: 0.1409 - val_accuracy: 0.9444\n",
            "Epoch 64/100\n",
            "277/277 [==============================] - 0s 2ms/step - loss: 0.1264 - accuracy: 0.9515 - val_loss: 0.1384 - val_accuracy: 0.9435\n",
            "Epoch 65/100\n",
            "277/277 [==============================] - 0s 2ms/step - loss: 0.1275 - accuracy: 0.9501 - val_loss: 0.1400 - val_accuracy: 0.9430\n",
            "Epoch 66/100\n",
            "277/277 [==============================] - 0s 2ms/step - loss: 0.1237 - accuracy: 0.9530 - val_loss: 0.1390 - val_accuracy: 0.9430\n",
            "Epoch 67/100\n",
            "277/277 [==============================] - 0s 2ms/step - loss: 0.1268 - accuracy: 0.9513 - val_loss: 0.1402 - val_accuracy: 0.9435\n",
            "Epoch 68/100\n",
            "277/277 [==============================] - 0s 2ms/step - loss: 0.1264 - accuracy: 0.9497 - val_loss: 0.1427 - val_accuracy: 0.9448\n",
            "Epoch 69/100\n",
            "277/277 [==============================] - 0s 2ms/step - loss: 0.1248 - accuracy: 0.9502 - val_loss: 0.1386 - val_accuracy: 0.9430\n",
            "Epoch 70/100\n",
            "277/277 [==============================] - 0s 2ms/step - loss: 0.1226 - accuracy: 0.9518 - val_loss: 0.1445 - val_accuracy: 0.9417\n",
            "Epoch 71/100\n",
            "277/277 [==============================] - 0s 2ms/step - loss: 0.1238 - accuracy: 0.9525 - val_loss: 0.1424 - val_accuracy: 0.9453\n",
            "Epoch 72/100\n",
            "277/277 [==============================] - 0s 2ms/step - loss: 0.1242 - accuracy: 0.9537 - val_loss: 0.1406 - val_accuracy: 0.9417\n",
            "Epoch 73/100\n",
            "277/277 [==============================] - 0s 2ms/step - loss: 0.1251 - accuracy: 0.9526 - val_loss: 0.1408 - val_accuracy: 0.9453\n",
            "Epoch 74/100\n",
            "277/277 [==============================] - 0s 2ms/step - loss: 0.1279 - accuracy: 0.9502 - val_loss: 0.1433 - val_accuracy: 0.9421\n",
            "Epoch 75/100\n",
            "277/277 [==============================] - 0s 2ms/step - loss: 0.1236 - accuracy: 0.9522 - val_loss: 0.1382 - val_accuracy: 0.9462\n",
            "Epoch 76/100\n",
            "277/277 [==============================] - 0s 2ms/step - loss: 0.1232 - accuracy: 0.9542 - val_loss: 0.1381 - val_accuracy: 0.9444\n",
            "Epoch 77/100\n",
            "277/277 [==============================] - 0s 2ms/step - loss: 0.1220 - accuracy: 0.9533 - val_loss: 0.1382 - val_accuracy: 0.9430\n",
            "Epoch 78/100\n",
            "277/277 [==============================] - 0s 2ms/step - loss: 0.1226 - accuracy: 0.9549 - val_loss: 0.1378 - val_accuracy: 0.9444\n",
            "Epoch 79/100\n",
            "277/277 [==============================] - 0s 2ms/step - loss: 0.1237 - accuracy: 0.9533 - val_loss: 0.1375 - val_accuracy: 0.9462\n",
            "Epoch 80/100\n",
            "277/277 [==============================] - 0s 2ms/step - loss: 0.1213 - accuracy: 0.9537 - val_loss: 0.1384 - val_accuracy: 0.9412\n",
            "Epoch 81/100\n",
            "277/277 [==============================] - 0s 2ms/step - loss: 0.1213 - accuracy: 0.9542 - val_loss: 0.1366 - val_accuracy: 0.9448\n",
            "Epoch 82/100\n",
            "277/277 [==============================] - 0s 2ms/step - loss: 0.1200 - accuracy: 0.9536 - val_loss: 0.1392 - val_accuracy: 0.9435\n",
            "Epoch 83/100\n",
            "277/277 [==============================] - 0s 2ms/step - loss: 0.1183 - accuracy: 0.9568 - val_loss: 0.1355 - val_accuracy: 0.9471\n",
            "Epoch 84/100\n",
            "277/277 [==============================] - 0s 2ms/step - loss: 0.1208 - accuracy: 0.9527 - val_loss: 0.1363 - val_accuracy: 0.9462\n",
            "Epoch 85/100\n",
            "277/277 [==============================] - 0s 2ms/step - loss: 0.1203 - accuracy: 0.9542 - val_loss: 0.1363 - val_accuracy: 0.9466\n",
            "Epoch 86/100\n",
            "277/277 [==============================] - 0s 2ms/step - loss: 0.1198 - accuracy: 0.9537 - val_loss: 0.1394 - val_accuracy: 0.9480\n",
            "Epoch 87/100\n",
            "277/277 [==============================] - 0s 2ms/step - loss: 0.1162 - accuracy: 0.9545 - val_loss: 0.1353 - val_accuracy: 0.9498\n",
            "Epoch 88/100\n",
            "277/277 [==============================] - 0s 2ms/step - loss: 0.1166 - accuracy: 0.9543 - val_loss: 0.1370 - val_accuracy: 0.9462\n",
            "Epoch 89/100\n",
            "277/277 [==============================] - 0s 2ms/step - loss: 0.1200 - accuracy: 0.9552 - val_loss: 0.1377 - val_accuracy: 0.9475\n",
            "Epoch 90/100\n",
            "277/277 [==============================] - 0s 2ms/step - loss: 0.1156 - accuracy: 0.9559 - val_loss: 0.1365 - val_accuracy: 0.9489\n",
            "Epoch 91/100\n",
            "277/277 [==============================] - 0s 2ms/step - loss: 0.1178 - accuracy: 0.9556 - val_loss: 0.1351 - val_accuracy: 0.9484\n",
            "Epoch 92/100\n",
            "277/277 [==============================] - 0s 2ms/step - loss: 0.1148 - accuracy: 0.9565 - val_loss: 0.1363 - val_accuracy: 0.9498\n",
            "Epoch 93/100\n",
            "277/277 [==============================] - 0s 2ms/step - loss: 0.1177 - accuracy: 0.9548 - val_loss: 0.1349 - val_accuracy: 0.9471\n",
            "Epoch 94/100\n",
            "277/277 [==============================] - 0s 2ms/step - loss: 0.1152 - accuracy: 0.9560 - val_loss: 0.1347 - val_accuracy: 0.9484\n",
            "Epoch 95/100\n",
            "277/277 [==============================] - 0s 2ms/step - loss: 0.1169 - accuracy: 0.9543 - val_loss: 0.1359 - val_accuracy: 0.9480\n",
            "Epoch 96/100\n",
            "277/277 [==============================] - 0s 2ms/step - loss: 0.1169 - accuracy: 0.9567 - val_loss: 0.1382 - val_accuracy: 0.9484\n",
            "Epoch 97/100\n",
            "277/277 [==============================] - 0s 2ms/step - loss: 0.1152 - accuracy: 0.9568 - val_loss: 0.1362 - val_accuracy: 0.9466\n",
            "Epoch 98/100\n",
            "277/277 [==============================] - 0s 2ms/step - loss: 0.1155 - accuracy: 0.9567 - val_loss: 0.1382 - val_accuracy: 0.9453\n",
            "Epoch 99/100\n",
            "277/277 [==============================] - 0s 2ms/step - loss: 0.1172 - accuracy: 0.9560 - val_loss: 0.1358 - val_accuracy: 0.9462\n",
            "Epoch 100/100\n",
            "277/277 [==============================] - 0s 2ms/step - loss: 0.1156 - accuracy: 0.9545 - val_loss: 0.1364 - val_accuracy: 0.9489\n"
          ],
          "name": "stdout"
        }
      ]
    },
    {
      "cell_type": "code",
      "metadata": {
        "id": "X4WFuUDJ8CZz",
        "colab_type": "code",
        "colab": {
          "base_uri": "https://localhost:8080/",
          "height": 50
        },
        "outputId": "1e1fc7dc-9e0d-4849-970e-7f570dfc81e6"
      },
      "source": [
        "score = model.evaluate(X_train, Y_train, verbose=0) \n",
        "print('Train:', 'loss:',score[0], 'accuracy:',score[1])\n",
        "score = model.evaluate(X_test, Y_test, verbose=0) \n",
        "print('Test:', 'loss:',score[0], 'accuracy:',score[1])"
      ],
      "execution_count": 11,
      "outputs": [
        {
          "output_type": "stream",
          "text": [
            "Train: loss: 0.08693104237318039 accuracy: 0.9685627222061157\n",
            "Test: loss: 0.13639633357524872 accuracy: 0.9488918781280518\n"
          ],
          "name": "stdout"
        }
      ]
    },
    {
      "cell_type": "markdown",
      "metadata": {
        "id": "qvcjnVHPA4ku",
        "colab_type": "text"
      },
      "source": [
        "Naive Bayes"
      ]
    },
    {
      "cell_type": "code",
      "metadata": {
        "id": "v2c1NMwwA-fv",
        "colab_type": "code",
        "colab": {}
      },
      "source": [
        "from sklearn.naive_bayes import GaussianNB\n",
        "gnb = GaussianNB()\n",
        "model = gnb.fit(X_train, Y_train)\n",
        "y_pred = model.predict(X_test)"
      ],
      "execution_count": 0,
      "outputs": []
    },
    {
      "cell_type": "code",
      "metadata": {
        "id": "2vE0qVYdEJ9y",
        "colab_type": "code",
        "colab": {
          "base_uri": "https://localhost:8080/",
          "height": 34
        },
        "outputId": "b1e7c418-b537-425e-cca2-6c5c01ee7918"
      },
      "source": [
        "print(\"Number of mislabeled points out of a total %d points : %d\" % (X_test.shape[0], (Y_test != y_pred).sum()))"
      ],
      "execution_count": 13,
      "outputs": [
        {
          "output_type": "stream",
          "text": [
            "Number of mislabeled points out of a total 2211 points : 896\n"
          ],
          "name": "stdout"
        }
      ]
    },
    {
      "cell_type": "markdown",
      "metadata": {
        "id": "eYIpfvng-MyE",
        "colab_type": "text"
      },
      "source": [
        "##UNSUPERVISED"
      ]
    },
    {
      "cell_type": "markdown",
      "metadata": {
        "id": "fdq2rRBO-v61",
        "colab_type": "text"
      },
      "source": [
        "Auto-Encoders"
      ]
    },
    {
      "cell_type": "code",
      "metadata": {
        "id": "8EkdPHcD86xE",
        "colab_type": "code",
        "colab": {
          "base_uri": "https://localhost:8080/",
          "height": 1000
        },
        "outputId": "abd409c0-67b9-4f48-b7e8-b69cd653bef0"
      },
      "source": [
        "model = tf.keras.models.Sequential([\n",
        "                                    tf.keras.layers.Dense(15, activation='relu'),\n",
        "                                    tf.keras.layers.Dropout(0.2),\n",
        "                                    tf.keras.layers.Dense(7, activation='relu'),\n",
        "                                    tf.keras.layers.Dropout(0.2),\n",
        "                                    tf.keras.layers.Dense(7, activation='relu'),\n",
        "                                    tf.keras.layers.Dropout(0.2),\n",
        "                                    tf.keras.layers.Dense(15, activation='relu'),\n",
        "                                    tf.keras.layers.Dropout(0.2),\n",
        "                                    tf.keras.layers.Dense(30, activation='tanh')\n",
        "])\n",
        "model.compile(optimizer='adam', loss='mse', metrics=['mse'])\n",
        "history = model.fit(normal_webistes, normal_webistes, epochs=100,verbose=1)"
      ],
      "execution_count": 14,
      "outputs": [
        {
          "output_type": "stream",
          "text": [
            "Epoch 1/100\n",
            "193/193 [==============================] - 0s 2ms/step - loss: 0.6641 - mse: 0.6641\n",
            "Epoch 2/100\n",
            "193/193 [==============================] - 0s 2ms/step - loss: 0.5313 - mse: 0.5313\n",
            "Epoch 3/100\n",
            "193/193 [==============================] - 0s 1ms/step - loss: 0.5090 - mse: 0.5090\n",
            "Epoch 4/100\n",
            "193/193 [==============================] - 0s 2ms/step - loss: 0.4816 - mse: 0.4816\n",
            "Epoch 5/100\n",
            "193/193 [==============================] - 0s 1ms/step - loss: 0.4560 - mse: 0.4560\n",
            "Epoch 6/100\n",
            "193/193 [==============================] - 0s 2ms/step - loss: 0.4395 - mse: 0.4395\n",
            "Epoch 7/100\n",
            "193/193 [==============================] - 0s 2ms/step - loss: 0.4291 - mse: 0.4291\n",
            "Epoch 8/100\n",
            "193/193 [==============================] - 0s 1ms/step - loss: 0.4250 - mse: 0.4250\n",
            "Epoch 9/100\n",
            "193/193 [==============================] - 0s 2ms/step - loss: 0.4204 - mse: 0.4204\n",
            "Epoch 10/100\n",
            "193/193 [==============================] - 0s 1ms/step - loss: 0.4138 - mse: 0.4138\n",
            "Epoch 11/100\n",
            "193/193 [==============================] - 0s 1ms/step - loss: 0.4151 - mse: 0.4151\n",
            "Epoch 12/100\n",
            "193/193 [==============================] - 0s 2ms/step - loss: 0.4098 - mse: 0.4098\n",
            "Epoch 13/100\n",
            "193/193 [==============================] - 0s 1ms/step - loss: 0.4064 - mse: 0.4064\n",
            "Epoch 14/100\n",
            "193/193 [==============================] - 0s 1ms/step - loss: 0.4074 - mse: 0.4074\n",
            "Epoch 15/100\n",
            "193/193 [==============================] - 0s 1ms/step - loss: 0.4053 - mse: 0.4053\n",
            "Epoch 16/100\n",
            "193/193 [==============================] - 0s 2ms/step - loss: 0.4036 - mse: 0.4036\n",
            "Epoch 17/100\n",
            "193/193 [==============================] - 0s 1ms/step - loss: 0.4034 - mse: 0.4034\n",
            "Epoch 18/100\n",
            "193/193 [==============================] - 0s 2ms/step - loss: 0.4022 - mse: 0.4022\n",
            "Epoch 19/100\n",
            "193/193 [==============================] - 0s 1ms/step - loss: 0.3996 - mse: 0.3996\n",
            "Epoch 20/100\n",
            "193/193 [==============================] - 0s 1ms/step - loss: 0.3994 - mse: 0.3994\n",
            "Epoch 21/100\n",
            "193/193 [==============================] - 0s 2ms/step - loss: 0.3975 - mse: 0.3975\n",
            "Epoch 22/100\n",
            "193/193 [==============================] - 0s 1ms/step - loss: 0.3957 - mse: 0.3957\n",
            "Epoch 23/100\n",
            "193/193 [==============================] - 0s 2ms/step - loss: 0.3946 - mse: 0.3946\n",
            "Epoch 24/100\n",
            "193/193 [==============================] - 0s 2ms/step - loss: 0.3931 - mse: 0.3931\n",
            "Epoch 25/100\n",
            "193/193 [==============================] - 0s 1ms/step - loss: 0.3915 - mse: 0.3915\n",
            "Epoch 26/100\n",
            "193/193 [==============================] - 0s 2ms/step - loss: 0.3898 - mse: 0.3898\n",
            "Epoch 27/100\n",
            "193/193 [==============================] - 0s 2ms/step - loss: 0.3900 - mse: 0.3900\n",
            "Epoch 28/100\n",
            "193/193 [==============================] - 0s 1ms/step - loss: 0.3895 - mse: 0.3895\n",
            "Epoch 29/100\n",
            "193/193 [==============================] - 0s 2ms/step - loss: 0.3887 - mse: 0.3887\n",
            "Epoch 30/100\n",
            "193/193 [==============================] - 0s 2ms/step - loss: 0.3878 - mse: 0.3878\n",
            "Epoch 31/100\n",
            "193/193 [==============================] - 0s 1ms/step - loss: 0.3874 - mse: 0.3874\n",
            "Epoch 32/100\n",
            "193/193 [==============================] - 0s 1ms/step - loss: 0.3846 - mse: 0.3846\n",
            "Epoch 33/100\n",
            "193/193 [==============================] - 0s 1ms/step - loss: 0.3847 - mse: 0.3847\n",
            "Epoch 34/100\n",
            "193/193 [==============================] - 0s 1ms/step - loss: 0.3844 - mse: 0.3844\n",
            "Epoch 35/100\n",
            "193/193 [==============================] - 0s 1ms/step - loss: 0.3833 - mse: 0.3833\n",
            "Epoch 36/100\n",
            "193/193 [==============================] - 0s 2ms/step - loss: 0.3834 - mse: 0.3834\n",
            "Epoch 37/100\n",
            "193/193 [==============================] - 0s 1ms/step - loss: 0.3830 - mse: 0.3830\n",
            "Epoch 38/100\n",
            "193/193 [==============================] - 0s 1ms/step - loss: 0.3779 - mse: 0.3779\n",
            "Epoch 39/100\n",
            "193/193 [==============================] - 0s 1ms/step - loss: 0.3815 - mse: 0.3815\n",
            "Epoch 40/100\n",
            "193/193 [==============================] - 0s 1ms/step - loss: 0.3788 - mse: 0.3788\n",
            "Epoch 41/100\n",
            "193/193 [==============================] - 0s 1ms/step - loss: 0.3786 - mse: 0.3786\n",
            "Epoch 42/100\n",
            "193/193 [==============================] - 0s 1ms/step - loss: 0.3771 - mse: 0.3771\n",
            "Epoch 43/100\n",
            "193/193 [==============================] - 0s 2ms/step - loss: 0.3769 - mse: 0.3769\n",
            "Epoch 44/100\n",
            "193/193 [==============================] - 0s 1ms/step - loss: 0.3762 - mse: 0.3762\n",
            "Epoch 45/100\n",
            "193/193 [==============================] - 0s 2ms/step - loss: 0.3770 - mse: 0.3770\n",
            "Epoch 46/100\n",
            "193/193 [==============================] - 0s 1ms/step - loss: 0.3762 - mse: 0.3762\n",
            "Epoch 47/100\n",
            "193/193 [==============================] - 0s 2ms/step - loss: 0.3751 - mse: 0.3751\n",
            "Epoch 48/100\n",
            "193/193 [==============================] - 0s 1ms/step - loss: 0.3744 - mse: 0.3744\n",
            "Epoch 49/100\n",
            "193/193 [==============================] - 0s 2ms/step - loss: 0.3749 - mse: 0.3749\n",
            "Epoch 50/100\n",
            "193/193 [==============================] - 0s 2ms/step - loss: 0.3725 - mse: 0.3725\n",
            "Epoch 51/100\n",
            "193/193 [==============================] - 0s 1ms/step - loss: 0.3738 - mse: 0.3738\n",
            "Epoch 52/100\n",
            "193/193 [==============================] - 0s 1ms/step - loss: 0.3730 - mse: 0.3730\n",
            "Epoch 53/100\n",
            "193/193 [==============================] - 0s 1ms/step - loss: 0.3740 - mse: 0.3740\n",
            "Epoch 54/100\n",
            "193/193 [==============================] - 0s 2ms/step - loss: 0.3733 - mse: 0.3733\n",
            "Epoch 55/100\n",
            "193/193 [==============================] - 0s 2ms/step - loss: 0.3759 - mse: 0.3759\n",
            "Epoch 56/100\n",
            "193/193 [==============================] - 0s 2ms/step - loss: 0.3739 - mse: 0.3739\n",
            "Epoch 57/100\n",
            "193/193 [==============================] - 0s 1ms/step - loss: 0.3737 - mse: 0.3737\n",
            "Epoch 58/100\n",
            "193/193 [==============================] - 0s 1ms/step - loss: 0.3728 - mse: 0.3728\n",
            "Epoch 59/100\n",
            "193/193 [==============================] - 0s 1ms/step - loss: 0.3723 - mse: 0.3723\n",
            "Epoch 60/100\n",
            "193/193 [==============================] - 0s 1ms/step - loss: 0.3716 - mse: 0.3716\n",
            "Epoch 61/100\n",
            "193/193 [==============================] - 0s 2ms/step - loss: 0.3735 - mse: 0.3735\n",
            "Epoch 62/100\n",
            "193/193 [==============================] - 0s 1ms/step - loss: 0.3714 - mse: 0.3714\n",
            "Epoch 63/100\n",
            "193/193 [==============================] - 0s 1ms/step - loss: 0.3732 - mse: 0.3732\n",
            "Epoch 64/100\n",
            "193/193 [==============================] - 0s 2ms/step - loss: 0.3736 - mse: 0.3736\n",
            "Epoch 65/100\n",
            "193/193 [==============================] - 0s 2ms/step - loss: 0.3704 - mse: 0.3704\n",
            "Epoch 66/100\n",
            "193/193 [==============================] - 0s 2ms/step - loss: 0.3718 - mse: 0.3718\n",
            "Epoch 67/100\n",
            "193/193 [==============================] - 0s 2ms/step - loss: 0.3713 - mse: 0.3713\n",
            "Epoch 68/100\n",
            "193/193 [==============================] - 0s 1ms/step - loss: 0.3720 - mse: 0.3720\n",
            "Epoch 69/100\n",
            "193/193 [==============================] - 0s 2ms/step - loss: 0.3705 - mse: 0.3705\n",
            "Epoch 70/100\n",
            "193/193 [==============================] - 0s 1ms/step - loss: 0.3723 - mse: 0.3723\n",
            "Epoch 71/100\n",
            "193/193 [==============================] - 0s 2ms/step - loss: 0.3689 - mse: 0.3689\n",
            "Epoch 72/100\n",
            "193/193 [==============================] - 0s 1ms/step - loss: 0.3700 - mse: 0.3700\n",
            "Epoch 73/100\n",
            "193/193 [==============================] - 0s 1ms/step - loss: 0.3721 - mse: 0.3721\n",
            "Epoch 74/100\n",
            "193/193 [==============================] - 0s 2ms/step - loss: 0.3693 - mse: 0.3693\n",
            "Epoch 75/100\n",
            "193/193 [==============================] - 0s 1ms/step - loss: 0.3699 - mse: 0.3699\n",
            "Epoch 76/100\n",
            "193/193 [==============================] - 0s 1ms/step - loss: 0.3722 - mse: 0.3722\n",
            "Epoch 77/100\n",
            "193/193 [==============================] - 0s 1ms/step - loss: 0.3686 - mse: 0.3686\n",
            "Epoch 78/100\n",
            "193/193 [==============================] - 0s 2ms/step - loss: 0.3712 - mse: 0.3712\n",
            "Epoch 79/100\n",
            "193/193 [==============================] - 0s 1ms/step - loss: 0.3703 - mse: 0.3703\n",
            "Epoch 80/100\n",
            "193/193 [==============================] - 0s 1ms/step - loss: 0.3708 - mse: 0.3708\n",
            "Epoch 81/100\n",
            "193/193 [==============================] - 0s 2ms/step - loss: 0.3699 - mse: 0.3699\n",
            "Epoch 82/100\n",
            "193/193 [==============================] - 0s 2ms/step - loss: 0.3682 - mse: 0.3682\n",
            "Epoch 83/100\n",
            "193/193 [==============================] - 0s 1ms/step - loss: 0.3696 - mse: 0.3696\n",
            "Epoch 84/100\n",
            "193/193 [==============================] - 0s 1ms/step - loss: 0.3693 - mse: 0.3693\n",
            "Epoch 85/100\n",
            "193/193 [==============================] - 0s 2ms/step - loss: 0.3686 - mse: 0.3686\n",
            "Epoch 86/100\n",
            "193/193 [==============================] - 0s 1ms/step - loss: 0.3695 - mse: 0.3695\n",
            "Epoch 87/100\n",
            "193/193 [==============================] - 0s 2ms/step - loss: 0.3688 - mse: 0.3688\n",
            "Epoch 88/100\n",
            "193/193 [==============================] - 0s 2ms/step - loss: 0.3707 - mse: 0.3707\n",
            "Epoch 89/100\n",
            "193/193 [==============================] - 0s 2ms/step - loss: 0.3681 - mse: 0.3681\n",
            "Epoch 90/100\n",
            "193/193 [==============================] - 0s 1ms/step - loss: 0.3672 - mse: 0.3672\n",
            "Epoch 91/100\n",
            "193/193 [==============================] - 0s 2ms/step - loss: 0.3687 - mse: 0.3687\n",
            "Epoch 92/100\n",
            "193/193 [==============================] - 0s 1ms/step - loss: 0.3686 - mse: 0.3686\n",
            "Epoch 93/100\n",
            "193/193 [==============================] - 0s 1ms/step - loss: 0.3674 - mse: 0.3674\n",
            "Epoch 94/100\n",
            "193/193 [==============================] - 0s 1ms/step - loss: 0.3687 - mse: 0.3687\n",
            "Epoch 95/100\n",
            "193/193 [==============================] - 0s 2ms/step - loss: 0.3691 - mse: 0.3691\n",
            "Epoch 96/100\n",
            "193/193 [==============================] - 0s 1ms/step - loss: 0.3666 - mse: 0.3666\n",
            "Epoch 97/100\n",
            "193/193 [==============================] - 0s 1ms/step - loss: 0.3683 - mse: 0.3683\n",
            "Epoch 98/100\n",
            "193/193 [==============================] - 0s 2ms/step - loss: 0.3668 - mse: 0.3668\n",
            "Epoch 99/100\n",
            "193/193 [==============================] - 0s 1ms/step - loss: 0.3675 - mse: 0.3675\n",
            "Epoch 100/100\n",
            "193/193 [==============================] - 0s 1ms/step - loss: 0.3673 - mse: 0.3673\n"
          ],
          "name": "stdout"
        }
      ]
    },
    {
      "cell_type": "code",
      "metadata": {
        "id": "37z5oW_6_bjg",
        "colab_type": "code",
        "colab": {
          "base_uri": "https://localhost:8080/",
          "height": 118
        },
        "outputId": "5ca736c7-bb34-4e64-99c9-249aeb0bf838"
      },
      "source": [
        "mse_train = []\n",
        "acc = 0\n",
        "for normal_i in trange(normal_webistes.shape[0]):\n",
        "  normal = normal_webistes[normal_i]\n",
        "  score = model.evaluate(np.reshape(np.array(normal), (1, 30)), np.reshape(np.array(normal), (1, 30)), verbose=0) \n",
        "  mse_train.append(score[1])\n",
        "  if score[1] < (0.30717997736194236+0.4784793007228054)/2:\n",
        "    acc += 1\n",
        "mse_train = np.array(mse_train)\n",
        "print(np.mean(mse_train))\n",
        "\n",
        "time.sleep(1)\n",
        "\n",
        "mse_test = []\n",
        "for phishing_i in trange(phishing_webistes.shape[0]):\n",
        "  phishing = phishing_webistes[phishing_i]\n",
        "  score = model.evaluate(np.reshape(np.array(phishing), (1, 30)), np.reshape(np.array(phishing), (1, 30)), verbose=0) \n",
        "  mse_test.append(score[1])\n",
        "  if score[1] > (0.29527+0.834192)/2:\n",
        "    acc += 1\n",
        "mse_test = np.array(mse_test)\n",
        "\n",
        "time.sleep(1)\n",
        "\n",
        "print(np.mean(mse_test))\n",
        "\n",
        "print()\n",
        "print('accuracy', acc/(phishing_webistes.shape[0] + normal_webistes.shape[0]))"
      ],
      "execution_count": 15,
      "outputs": [
        {
          "output_type": "stream",
          "text": [
            "100%|██████████| 6157/6157 [03:14<00:00, 31.59it/s]\n"
          ],
          "name": "stderr"
        },
        {
          "output_type": "stream",
          "text": [
            "0.32613883145178935\n"
          ],
          "name": "stdout"
        },
        {
          "output_type": "stream",
          "text": [
            "100%|██████████| 4897/4897 [02:34<00:00, 31.73it/s]\n"
          ],
          "name": "stderr"
        },
        {
          "output_type": "stream",
          "text": [
            "0.4956340214744597\n",
            "\n",
            "accuracy 0.5232495024425547\n"
          ],
          "name": "stdout"
        }
      ]
    },
    {
      "cell_type": "markdown",
      "metadata": {
        "id": "W6LlRRXUExuQ",
        "colab_type": "text"
      },
      "source": [
        "K-means"
      ]
    },
    {
      "cell_type": "code",
      "metadata": {
        "id": "bTl4CiJ5AfSQ",
        "colab_type": "code",
        "colab": {}
      },
      "source": [
        "def k_means(X, n_clusters):\n",
        "  kmeans = KMeans(n_clusters=n_clusters, random_state=0).fit(X)\n",
        "  return kmeans.labels_"
      ],
      "execution_count": 0,
      "outputs": []
    },
    {
      "cell_type": "code",
      "metadata": {
        "id": "TWRlIo0XTCRW",
        "colab_type": "code",
        "colab": {
          "base_uri": "https://localhost:8080/",
          "height": 34
        },
        "outputId": "bb36f026-9875-4bdd-91d9-19f950860a5e"
      },
      "source": [
        "labels = k_means(X_train, 2)\n",
        "print(1 - np.mean(np.square(Y_train - labels)))"
      ],
      "execution_count": 17,
      "outputs": [
        {
          "output_type": "stream",
          "text": [
            "0.452900599344114\n"
          ],
          "name": "stdout"
        }
      ]
    },
    {
      "cell_type": "markdown",
      "metadata": {
        "id": "fqbhEy7bXLHx",
        "colab_type": "text"
      },
      "source": [
        "##Feature Selection"
      ]
    },
    {
      "cell_type": "code",
      "metadata": {
        "id": "2iIBPMEkWbU1",
        "colab_type": "code",
        "colab": {}
      },
      "source": [
        "from sklearn.feature_selection import RFE\n",
        "from sklearn.linear_model import LogisticRegression"
      ],
      "execution_count": 0,
      "outputs": []
    },
    {
      "cell_type": "code",
      "metadata": {
        "id": "zMVYQP5NYOok",
        "colab_type": "code",
        "colab": {
          "base_uri": "https://localhost:8080/",
          "height": 134
        },
        "outputId": "033b4c65-d8dc-4de4-b1f2-6f317e06098e"
      },
      "source": [
        "model = LogisticRegression(solver='lbfgs')\n",
        "rfe = RFE(model, 5)\n",
        "fit = rfe.fit(X_random, Y_random)\n",
        "print(fit)"
      ],
      "execution_count": 19,
      "outputs": [
        {
          "output_type": "stream",
          "text": [
            "RFE(estimator=LogisticRegression(C=1.0, class_weight=None, dual=False,\n",
            "                                 fit_intercept=True, intercept_scaling=1,\n",
            "                                 l1_ratio=None, max_iter=100,\n",
            "                                 multi_class='auto', n_jobs=None, penalty='l2',\n",
            "                                 random_state=None, solver='lbfgs', tol=0.0001,\n",
            "                                 verbose=0, warm_start=False),\n",
            "    n_features_to_select=5, step=1, verbose=0)\n"
          ],
          "name": "stdout"
        }
      ]
    },
    {
      "cell_type": "code",
      "metadata": {
        "id": "hXDOxf8vYllE",
        "colab_type": "code",
        "colab": {
          "base_uri": "https://localhost:8080/",
          "height": 118
        },
        "outputId": "f2b5db3a-d08b-4be1-9c86-ad952321fcb8"
      },
      "source": [
        "print(\"Num Features: %d\" % fit.n_features_)\n",
        "print(\"Selected Features: %s\" % fit.support_)\n",
        "print(\"Feature Ranking: %s\" % fit.ranking_)\n",
        "best_features = [(name, rank) for name, rank in zip(features[:-1],fit.ranking_) if rank == 1]"
      ],
      "execution_count": 20,
      "outputs": [
        {
          "output_type": "stream",
          "text": [
            "Num Features: 5\n",
            "Selected Features: [False False False False False  True False  True False False False False\n",
            " False  True  True  True False False False False False False False False\n",
            " False False False False False False]\n",
            "Feature Ranking: [ 8 21  6 15 25  1  3  1 26 12 11 10 18  1  1  1 13 19  4 17 22 23 16 24\n",
            "  9  2 20  5  7 14]\n"
          ],
          "name": "stdout"
        }
      ]
    },
    {
      "cell_type": "code",
      "metadata": {
        "id": "9kIxu1HTYrTX",
        "colab_type": "code",
        "colab": {
          "base_uri": "https://localhost:8080/",
          "height": 34
        },
        "outputId": "09e2eb65-bc4f-47f7-cb8e-c4c68c5c0b6c"
      },
      "source": [
        "print(best_features)"
      ],
      "execution_count": 21,
      "outputs": [
        {
          "output_type": "stream",
          "text": [
            "[('PrefixSuffix-', 1), ('HTTPS', 1), ('AnchorURL', 1), ('LinksInScriptTags', 1), ('ServerFormHandler', 1)]\n"
          ],
          "name": "stdout"
        }
      ]
    },
    {
      "cell_type": "markdown",
      "metadata": {
        "id": "_rPIy4MHZoiq",
        "colab_type": "text"
      },
      "source": [
        "# Selected Data:"
      ]
    },
    {
      "cell_type": "code",
      "metadata": {
        "id": "uwPDT4RRaSBn",
        "colab_type": "code",
        "colab": {}
      },
      "source": [
        "best_features = [i[0] for i in best_features] + ['class']"
      ],
      "execution_count": 0,
      "outputs": []
    },
    {
      "cell_type": "code",
      "metadata": {
        "id": "9kq_gRfOZezG",
        "colab_type": "code",
        "colab": {}
      },
      "source": [
        "data = pd.read_csv('phishing.csv', usecols=best_features)\n",
        "features = data.columns[:]\n",
        "data = data.values\n",
        "data = data.T[:]\n",
        "data = data.T"
      ],
      "execution_count": 0,
      "outputs": []
    },
    {
      "cell_type": "code",
      "metadata": {
        "id": "vN_N5V-rZ6Yz",
        "colab_type": "code",
        "colab": {
          "base_uri": "https://localhost:8080/",
          "height": 151
        },
        "outputId": "a3f0df10-1bba-499d-f1d7-f9d9bb1c1a44"
      },
      "source": [
        "print(features)\n",
        "print(data[:5])"
      ],
      "execution_count": 24,
      "outputs": [
        {
          "output_type": "stream",
          "text": [
            "Index(['PrefixSuffix-', 'HTTPS', 'AnchorURL', 'LinksInScriptTags',\n",
            "       'ServerFormHandler', 'class'],\n",
            "      dtype='object')\n",
            "[[-1  1  0 -1 -1 -1]\n",
            " [-1 -1  0 -1 -1 -1]\n",
            " [-1 -1  0  0 -1 -1]\n",
            " [-1  1  0  0 -1  1]\n",
            " [-1  1  0  0 -1  1]]\n"
          ],
          "name": "stdout"
        }
      ]
    },
    {
      "cell_type": "markdown",
      "metadata": {
        "id": "0mNhk0ACaKps",
        "colab_type": "text"
      },
      "source": [
        "X, Y splitter. Also creation of only normal cases and phishing cases as well as random"
      ]
    },
    {
      "cell_type": "code",
      "metadata": {
        "id": "U-SiHipVaCNB",
        "colab_type": "code",
        "colab": {}
      },
      "source": [
        "X = data.T[:-1]\n",
        "X = X.T\n",
        "Y = data.T[-1]\n",
        "Y = np.array([0 if i==-1 else 1 for i in Y])\n",
        "\n",
        "shuffled_indexes = np.array(range(X.shape[0]))\n",
        "np.random.shuffle(shuffled_indexes)\n",
        "\n",
        "X_random = X[shuffled_indexes]\n",
        "Y_random = Y[shuffled_indexes]\n",
        "\n",
        "X_train, X_test = X_random[:int(0.8*X_random.shape[0])], X_random[int(0.8*X_random.shape[0]):]\n",
        "Y_train, Y_test = Y_random[:int(0.8*X_random.shape[0])], Y_random[int(0.8*X_random.shape[0]):]\n",
        "\n",
        "normal_webistes = np.array([X[index] for index in range(Y.shape[0]) if Y[index] == 1])\n",
        "phishing_webistes = np.array([X[index] for index in range(Y.shape[0]) if Y[index] == 0])"
      ],
      "execution_count": 0,
      "outputs": []
    },
    {
      "cell_type": "code",
      "metadata": {
        "id": "dWxLH0pXaNnb",
        "colab_type": "code",
        "colab": {
          "base_uri": "https://localhost:8080/",
          "height": 168
        },
        "outputId": "816ace3c-2aa2-4aca-e768-8634ad0a8b25"
      },
      "source": [
        "print(normal_webistes.shape)\n",
        "print(phishing_webistes.shape)\n",
        "print(X_random)"
      ],
      "execution_count": 26,
      "outputs": [
        {
          "output_type": "stream",
          "text": [
            "(6157, 5)\n",
            "(4897, 5)\n",
            "[[ 1  1  0  0 -1]\n",
            " [-1  1  0  1 -1]\n",
            " [-1  0 -1 -1 -1]\n",
            " ...\n",
            " [-1  1  0 -1 -1]\n",
            " [-1  1  0  0  0]\n",
            " [ 1  1  0  1 -1]]\n"
          ],
          "name": "stdout"
        }
      ]
    },
    {
      "cell_type": "markdown",
      "metadata": {
        "id": "ukq4xQd_aqUz",
        "colab_type": "text"
      },
      "source": [
        "##SUPERVISED"
      ]
    },
    {
      "cell_type": "markdown",
      "metadata": {
        "id": "NhX6UCy6auI2",
        "colab_type": "text"
      },
      "source": [
        "LOGISTIC REGRESSION"
      ]
    },
    {
      "cell_type": "code",
      "metadata": {
        "id": "hbTdEfFoal5j",
        "colab_type": "code",
        "colab": {
          "base_uri": "https://localhost:8080/",
          "height": 1000
        },
        "outputId": "0262e28a-e46b-4a21-95a2-829ef4f9f397"
      },
      "source": [
        "model = tf.keras.models.Sequential([\n",
        "                                      tf.keras.layers.Dense(1, activation='sigmoid', kernel_regularizer=tf.keras.regularizers.l1(l=0.001))\n",
        "  ])\n",
        "model.compile(optimizer='adam', loss='binary_crossentropy', metrics=['accuracy'])\n",
        "history = model.fit(X_train, Y_train, epochs=100,verbose=1, validation_data=(X_test, Y_test))"
      ],
      "execution_count": 27,
      "outputs": [
        {
          "output_type": "stream",
          "text": [
            "Epoch 1/100\n",
            "277/277 [==============================] - 0s 2ms/step - loss: 0.7768 - accuracy: 0.5316 - val_loss: 0.6593 - val_accuracy: 0.6436\n",
            "Epoch 2/100\n",
            "277/277 [==============================] - 0s 1ms/step - loss: 0.5657 - accuracy: 0.7693 - val_loss: 0.5106 - val_accuracy: 0.8476\n",
            "Epoch 3/100\n",
            "277/277 [==============================] - 0s 1ms/step - loss: 0.4556 - accuracy: 0.8706 - val_loss: 0.4285 - val_accuracy: 0.8761\n",
            "Epoch 4/100\n",
            "277/277 [==============================] - 0s 1ms/step - loss: 0.3921 - accuracy: 0.8854 - val_loss: 0.3781 - val_accuracy: 0.8801\n",
            "Epoch 5/100\n",
            "277/277 [==============================] - 0s 1ms/step - loss: 0.3520 - accuracy: 0.8871 - val_loss: 0.3451 - val_accuracy: 0.8801\n",
            "Epoch 6/100\n",
            "277/277 [==============================] - 0s 1ms/step - loss: 0.3254 - accuracy: 0.8875 - val_loss: 0.3225 - val_accuracy: 0.8801\n",
            "Epoch 7/100\n",
            "277/277 [==============================] - 0s 1ms/step - loss: 0.3064 - accuracy: 0.8904 - val_loss: 0.3058 - val_accuracy: 0.8969\n",
            "Epoch 8/100\n",
            "277/277 [==============================] - 0s 1ms/step - loss: 0.2924 - accuracy: 0.9030 - val_loss: 0.2932 - val_accuracy: 0.8969\n",
            "Epoch 9/100\n",
            "277/277 [==============================] - 0s 1ms/step - loss: 0.2817 - accuracy: 0.9051 - val_loss: 0.2833 - val_accuracy: 0.8987\n",
            "Epoch 10/100\n",
            "277/277 [==============================] - 0s 1ms/step - loss: 0.2731 - accuracy: 0.9056 - val_loss: 0.2752 - val_accuracy: 0.9041\n",
            "Epoch 11/100\n",
            "277/277 [==============================] - 0s 1ms/step - loss: 0.2661 - accuracy: 0.9073 - val_loss: 0.2687 - val_accuracy: 0.9077\n",
            "Epoch 12/100\n",
            "277/277 [==============================] - 0s 1ms/step - loss: 0.2604 - accuracy: 0.9103 - val_loss: 0.2631 - val_accuracy: 0.9077\n",
            "Epoch 13/100\n",
            "277/277 [==============================] - 0s 1ms/step - loss: 0.2555 - accuracy: 0.9104 - val_loss: 0.2585 - val_accuracy: 0.9086\n",
            "Epoch 14/100\n",
            "277/277 [==============================] - 0s 1ms/step - loss: 0.2514 - accuracy: 0.9109 - val_loss: 0.2546 - val_accuracy: 0.9086\n",
            "Epoch 15/100\n",
            "277/277 [==============================] - 0s 1ms/step - loss: 0.2479 - accuracy: 0.9133 - val_loss: 0.2513 - val_accuracy: 0.9095\n",
            "Epoch 16/100\n",
            "277/277 [==============================] - 0s 2ms/step - loss: 0.2450 - accuracy: 0.9153 - val_loss: 0.2486 - val_accuracy: 0.9100\n",
            "Epoch 17/100\n",
            "277/277 [==============================] - 0s 1ms/step - loss: 0.2425 - accuracy: 0.9162 - val_loss: 0.2462 - val_accuracy: 0.9100\n",
            "Epoch 18/100\n",
            "277/277 [==============================] - 0s 1ms/step - loss: 0.2405 - accuracy: 0.9162 - val_loss: 0.2442 - val_accuracy: 0.9100\n",
            "Epoch 19/100\n",
            "277/277 [==============================] - 0s 1ms/step - loss: 0.2387 - accuracy: 0.9162 - val_loss: 0.2427 - val_accuracy: 0.9100\n",
            "Epoch 20/100\n",
            "277/277 [==============================] - 0s 1ms/step - loss: 0.2373 - accuracy: 0.9153 - val_loss: 0.2414 - val_accuracy: 0.9032\n",
            "Epoch 21/100\n",
            "277/277 [==============================] - 0s 1ms/step - loss: 0.2361 - accuracy: 0.9113 - val_loss: 0.2403 - val_accuracy: 0.9032\n",
            "Epoch 22/100\n",
            "277/277 [==============================] - 0s 1ms/step - loss: 0.2352 - accuracy: 0.9106 - val_loss: 0.2394 - val_accuracy: 0.9032\n",
            "Epoch 23/100\n",
            "277/277 [==============================] - 0s 1ms/step - loss: 0.2343 - accuracy: 0.9106 - val_loss: 0.2386 - val_accuracy: 0.9032\n",
            "Epoch 24/100\n",
            "277/277 [==============================] - 0s 1ms/step - loss: 0.2337 - accuracy: 0.9106 - val_loss: 0.2380 - val_accuracy: 0.9032\n",
            "Epoch 25/100\n",
            "277/277 [==============================] - 0s 1ms/step - loss: 0.2331 - accuracy: 0.9106 - val_loss: 0.2374 - val_accuracy: 0.9032\n",
            "Epoch 26/100\n",
            "277/277 [==============================] - 0s 1ms/step - loss: 0.2327 - accuracy: 0.9106 - val_loss: 0.2370 - val_accuracy: 0.9032\n",
            "Epoch 27/100\n",
            "277/277 [==============================] - 0s 1ms/step - loss: 0.2323 - accuracy: 0.9109 - val_loss: 0.2367 - val_accuracy: 0.9032\n",
            "Epoch 28/100\n",
            "277/277 [==============================] - 0s 1ms/step - loss: 0.2319 - accuracy: 0.9110 - val_loss: 0.2363 - val_accuracy: 0.9037\n",
            "Epoch 29/100\n",
            "277/277 [==============================] - 0s 1ms/step - loss: 0.2317 - accuracy: 0.9109 - val_loss: 0.2360 - val_accuracy: 0.9037\n",
            "Epoch 30/100\n",
            "277/277 [==============================] - 0s 1ms/step - loss: 0.2314 - accuracy: 0.9109 - val_loss: 0.2357 - val_accuracy: 0.9037\n",
            "Epoch 31/100\n",
            "277/277 [==============================] - 0s 1ms/step - loss: 0.2312 - accuracy: 0.9109 - val_loss: 0.2353 - val_accuracy: 0.9037\n",
            "Epoch 32/100\n",
            "277/277 [==============================] - 0s 1ms/step - loss: 0.2310 - accuracy: 0.9113 - val_loss: 0.2353 - val_accuracy: 0.9055\n",
            "Epoch 33/100\n",
            "277/277 [==============================] - 0s 1ms/step - loss: 0.2308 - accuracy: 0.9126 - val_loss: 0.2349 - val_accuracy: 0.9055\n",
            "Epoch 34/100\n",
            "277/277 [==============================] - 0s 1ms/step - loss: 0.2306 - accuracy: 0.9126 - val_loss: 0.2347 - val_accuracy: 0.9055\n",
            "Epoch 35/100\n",
            "277/277 [==============================] - 0s 1ms/step - loss: 0.2305 - accuracy: 0.9126 - val_loss: 0.2345 - val_accuracy: 0.9055\n",
            "Epoch 36/100\n",
            "277/277 [==============================] - 0s 1ms/step - loss: 0.2303 - accuracy: 0.9126 - val_loss: 0.2342 - val_accuracy: 0.9055\n",
            "Epoch 37/100\n",
            "277/277 [==============================] - 0s 1ms/step - loss: 0.2302 - accuracy: 0.9126 - val_loss: 0.2342 - val_accuracy: 0.9055\n",
            "Epoch 38/100\n",
            "277/277 [==============================] - 0s 1ms/step - loss: 0.2300 - accuracy: 0.9126 - val_loss: 0.2340 - val_accuracy: 0.9055\n",
            "Epoch 39/100\n",
            "277/277 [==============================] - 0s 1ms/step - loss: 0.2299 - accuracy: 0.9126 - val_loss: 0.2340 - val_accuracy: 0.9055\n",
            "Epoch 40/100\n",
            "277/277 [==============================] - 0s 1ms/step - loss: 0.2299 - accuracy: 0.9126 - val_loss: 0.2338 - val_accuracy: 0.9055\n",
            "Epoch 41/100\n",
            "277/277 [==============================] - 0s 1ms/step - loss: 0.2297 - accuracy: 0.9126 - val_loss: 0.2336 - val_accuracy: 0.9055\n",
            "Epoch 42/100\n",
            "277/277 [==============================] - 0s 1ms/step - loss: 0.2296 - accuracy: 0.9126 - val_loss: 0.2334 - val_accuracy: 0.9055\n",
            "Epoch 43/100\n",
            "277/277 [==============================] - 0s 1ms/step - loss: 0.2295 - accuracy: 0.9126 - val_loss: 0.2333 - val_accuracy: 0.9055\n",
            "Epoch 44/100\n",
            "277/277 [==============================] - 0s 1ms/step - loss: 0.2294 - accuracy: 0.9126 - val_loss: 0.2333 - val_accuracy: 0.9055\n",
            "Epoch 45/100\n",
            "277/277 [==============================] - 0s 1ms/step - loss: 0.2293 - accuracy: 0.9126 - val_loss: 0.2330 - val_accuracy: 0.9055\n",
            "Epoch 46/100\n",
            "277/277 [==============================] - 0s 1ms/step - loss: 0.2293 - accuracy: 0.9126 - val_loss: 0.2329 - val_accuracy: 0.9055\n",
            "Epoch 47/100\n",
            "277/277 [==============================] - 0s 1ms/step - loss: 0.2292 - accuracy: 0.9129 - val_loss: 0.2328 - val_accuracy: 0.9055\n",
            "Epoch 48/100\n",
            "277/277 [==============================] - 0s 1ms/step - loss: 0.2291 - accuracy: 0.9129 - val_loss: 0.2326 - val_accuracy: 0.9068\n",
            "Epoch 49/100\n",
            "277/277 [==============================] - 0s 1ms/step - loss: 0.2290 - accuracy: 0.9132 - val_loss: 0.2325 - val_accuracy: 0.9068\n",
            "Epoch 50/100\n",
            "277/277 [==============================] - 0s 1ms/step - loss: 0.2290 - accuracy: 0.9132 - val_loss: 0.2324 - val_accuracy: 0.9068\n",
            "Epoch 51/100\n",
            "277/277 [==============================] - 0s 1ms/step - loss: 0.2289 - accuracy: 0.9132 - val_loss: 0.2322 - val_accuracy: 0.9068\n",
            "Epoch 52/100\n",
            "277/277 [==============================] - 0s 1ms/step - loss: 0.2289 - accuracy: 0.9132 - val_loss: 0.2323 - val_accuracy: 0.9068\n",
            "Epoch 53/100\n",
            "277/277 [==============================] - 0s 2ms/step - loss: 0.2288 - accuracy: 0.9132 - val_loss: 0.2322 - val_accuracy: 0.9068\n",
            "Epoch 54/100\n",
            "277/277 [==============================] - 0s 2ms/step - loss: 0.2288 - accuracy: 0.9132 - val_loss: 0.2322 - val_accuracy: 0.9068\n",
            "Epoch 55/100\n",
            "277/277 [==============================] - 0s 2ms/step - loss: 0.2287 - accuracy: 0.9132 - val_loss: 0.2322 - val_accuracy: 0.9068\n",
            "Epoch 56/100\n",
            "277/277 [==============================] - 0s 2ms/step - loss: 0.2286 - accuracy: 0.9132 - val_loss: 0.2320 - val_accuracy: 0.9068\n",
            "Epoch 57/100\n",
            "277/277 [==============================] - 0s 2ms/step - loss: 0.2286 - accuracy: 0.9132 - val_loss: 0.2320 - val_accuracy: 0.9068\n",
            "Epoch 58/100\n",
            "277/277 [==============================] - 0s 2ms/step - loss: 0.2285 - accuracy: 0.9132 - val_loss: 0.2318 - val_accuracy: 0.9068\n",
            "Epoch 59/100\n",
            "277/277 [==============================] - 0s 2ms/step - loss: 0.2285 - accuracy: 0.9134 - val_loss: 0.2317 - val_accuracy: 0.9073\n",
            "Epoch 60/100\n",
            "277/277 [==============================] - 0s 2ms/step - loss: 0.2285 - accuracy: 0.9139 - val_loss: 0.2317 - val_accuracy: 0.9073\n",
            "Epoch 61/100\n",
            "277/277 [==============================] - 0s 2ms/step - loss: 0.2284 - accuracy: 0.9139 - val_loss: 0.2317 - val_accuracy: 0.9073\n",
            "Epoch 62/100\n",
            "277/277 [==============================] - 0s 2ms/step - loss: 0.2284 - accuracy: 0.9139 - val_loss: 0.2317 - val_accuracy: 0.9073\n",
            "Epoch 63/100\n",
            "277/277 [==============================] - 0s 2ms/step - loss: 0.2284 - accuracy: 0.9139 - val_loss: 0.2317 - val_accuracy: 0.9073\n",
            "Epoch 64/100\n",
            "277/277 [==============================] - 0s 2ms/step - loss: 0.2283 - accuracy: 0.9139 - val_loss: 0.2316 - val_accuracy: 0.9073\n",
            "Epoch 65/100\n",
            "277/277 [==============================] - 0s 2ms/step - loss: 0.2283 - accuracy: 0.9139 - val_loss: 0.2316 - val_accuracy: 0.9073\n",
            "Epoch 66/100\n",
            "277/277 [==============================] - 0s 2ms/step - loss: 0.2283 - accuracy: 0.9139 - val_loss: 0.2316 - val_accuracy: 0.9073\n",
            "Epoch 67/100\n",
            "277/277 [==============================] - 0s 2ms/step - loss: 0.2282 - accuracy: 0.9139 - val_loss: 0.2313 - val_accuracy: 0.9073\n",
            "Epoch 68/100\n",
            "277/277 [==============================] - 0s 2ms/step - loss: 0.2282 - accuracy: 0.9139 - val_loss: 0.2313 - val_accuracy: 0.9073\n",
            "Epoch 69/100\n",
            "277/277 [==============================] - 0s 2ms/step - loss: 0.2281 - accuracy: 0.9139 - val_loss: 0.2313 - val_accuracy: 0.9073\n",
            "Epoch 70/100\n",
            "277/277 [==============================] - 0s 2ms/step - loss: 0.2281 - accuracy: 0.9139 - val_loss: 0.2314 - val_accuracy: 0.9073\n",
            "Epoch 71/100\n",
            "277/277 [==============================] - 0s 2ms/step - loss: 0.2281 - accuracy: 0.9139 - val_loss: 0.2312 - val_accuracy: 0.9073\n",
            "Epoch 72/100\n",
            "277/277 [==============================] - 0s 2ms/step - loss: 0.2281 - accuracy: 0.9139 - val_loss: 0.2311 - val_accuracy: 0.9073\n",
            "Epoch 73/100\n",
            "277/277 [==============================] - 0s 2ms/step - loss: 0.2280 - accuracy: 0.9139 - val_loss: 0.2311 - val_accuracy: 0.9073\n",
            "Epoch 74/100\n",
            "277/277 [==============================] - 0s 2ms/step - loss: 0.2280 - accuracy: 0.9139 - val_loss: 0.2311 - val_accuracy: 0.9073\n",
            "Epoch 75/100\n",
            "277/277 [==============================] - 0s 2ms/step - loss: 0.2280 - accuracy: 0.9139 - val_loss: 0.2312 - val_accuracy: 0.9073\n",
            "Epoch 76/100\n",
            "277/277 [==============================] - 0s 2ms/step - loss: 0.2280 - accuracy: 0.9139 - val_loss: 0.2310 - val_accuracy: 0.9073\n",
            "Epoch 77/100\n",
            "277/277 [==============================] - 0s 2ms/step - loss: 0.2280 - accuracy: 0.9139 - val_loss: 0.2311 - val_accuracy: 0.9073\n",
            "Epoch 78/100\n",
            "277/277 [==============================] - 0s 1ms/step - loss: 0.2279 - accuracy: 0.9139 - val_loss: 0.2311 - val_accuracy: 0.9073\n",
            "Epoch 79/100\n",
            "277/277 [==============================] - 0s 1ms/step - loss: 0.2279 - accuracy: 0.9139 - val_loss: 0.2310 - val_accuracy: 0.9073\n",
            "Epoch 80/100\n",
            "277/277 [==============================] - 0s 1ms/step - loss: 0.2279 - accuracy: 0.9139 - val_loss: 0.2310 - val_accuracy: 0.9073\n",
            "Epoch 81/100\n",
            "277/277 [==============================] - 0s 1ms/step - loss: 0.2279 - accuracy: 0.9139 - val_loss: 0.2310 - val_accuracy: 0.9073\n",
            "Epoch 82/100\n",
            "277/277 [==============================] - 0s 1ms/step - loss: 0.2279 - accuracy: 0.9139 - val_loss: 0.2309 - val_accuracy: 0.9073\n",
            "Epoch 83/100\n",
            "277/277 [==============================] - 0s 1ms/step - loss: 0.2278 - accuracy: 0.9139 - val_loss: 0.2310 - val_accuracy: 0.9073\n",
            "Epoch 84/100\n",
            "277/277 [==============================] - 0s 1ms/step - loss: 0.2278 - accuracy: 0.9139 - val_loss: 0.2308 - val_accuracy: 0.9073\n",
            "Epoch 85/100\n",
            "277/277 [==============================] - 0s 1ms/step - loss: 0.2278 - accuracy: 0.9139 - val_loss: 0.2309 - val_accuracy: 0.9073\n",
            "Epoch 86/100\n",
            "277/277 [==============================] - 0s 1ms/step - loss: 0.2278 - accuracy: 0.9139 - val_loss: 0.2308 - val_accuracy: 0.9073\n",
            "Epoch 87/100\n",
            "277/277 [==============================] - 0s 1ms/step - loss: 0.2278 - accuracy: 0.9139 - val_loss: 0.2309 - val_accuracy: 0.9073\n",
            "Epoch 88/100\n",
            "277/277 [==============================] - 0s 1ms/step - loss: 0.2278 - accuracy: 0.9139 - val_loss: 0.2308 - val_accuracy: 0.9073\n",
            "Epoch 89/100\n",
            "277/277 [==============================] - 0s 1ms/step - loss: 0.2278 - accuracy: 0.9139 - val_loss: 0.2308 - val_accuracy: 0.9073\n",
            "Epoch 90/100\n",
            "277/277 [==============================] - 0s 1ms/step - loss: 0.2277 - accuracy: 0.9139 - val_loss: 0.2310 - val_accuracy: 0.9073\n",
            "Epoch 91/100\n",
            "277/277 [==============================] - 0s 1ms/step - loss: 0.2277 - accuracy: 0.9139 - val_loss: 0.2309 - val_accuracy: 0.9073\n",
            "Epoch 92/100\n",
            "277/277 [==============================] - 0s 1ms/step - loss: 0.2277 - accuracy: 0.9139 - val_loss: 0.2307 - val_accuracy: 0.9073\n",
            "Epoch 93/100\n",
            "277/277 [==============================] - 0s 1ms/step - loss: 0.2277 - accuracy: 0.9139 - val_loss: 0.2307 - val_accuracy: 0.9073\n",
            "Epoch 94/100\n",
            "277/277 [==============================] - 0s 2ms/step - loss: 0.2276 - accuracy: 0.9139 - val_loss: 0.2306 - val_accuracy: 0.9073\n",
            "Epoch 95/100\n",
            "277/277 [==============================] - 0s 1ms/step - loss: 0.2276 - accuracy: 0.9139 - val_loss: 0.2307 - val_accuracy: 0.9073\n",
            "Epoch 96/100\n",
            "277/277 [==============================] - 0s 1ms/step - loss: 0.2276 - accuracy: 0.9139 - val_loss: 0.2307 - val_accuracy: 0.9073\n",
            "Epoch 97/100\n",
            "277/277 [==============================] - 0s 1ms/step - loss: 0.2276 - accuracy: 0.9139 - val_loss: 0.2306 - val_accuracy: 0.9073\n",
            "Epoch 98/100\n",
            "277/277 [==============================] - 0s 1ms/step - loss: 0.2276 - accuracy: 0.9139 - val_loss: 0.2305 - val_accuracy: 0.9073\n",
            "Epoch 99/100\n",
            "277/277 [==============================] - 0s 1ms/step - loss: 0.2276 - accuracy: 0.9139 - val_loss: 0.2307 - val_accuracy: 0.9073\n",
            "Epoch 100/100\n",
            "277/277 [==============================] - 0s 1ms/step - loss: 0.2276 - accuracy: 0.9139 - val_loss: 0.2305 - val_accuracy: 0.9073\n"
          ],
          "name": "stdout"
        }
      ]
    },
    {
      "cell_type": "code",
      "metadata": {
        "id": "GyUP-QlkaxLA",
        "colab_type": "code",
        "colab": {
          "base_uri": "https://localhost:8080/",
          "height": 50
        },
        "outputId": "0b26a839-a8b9-4b93-aa3b-adb997d17edb"
      },
      "source": [
        "score = model.evaluate(X_train, Y_train, verbose=0) \n",
        "print('Train:', 'loss:',score[0], 'accuracy:',score[1])\n",
        "score = model.evaluate(X_test, Y_test, verbose=0) \n",
        "print('Test:', 'loss:',score[0], 'accuracy:',score[1])"
      ],
      "execution_count": 28,
      "outputs": [
        {
          "output_type": "stream",
          "text": [
            "Train: loss: 0.22749002277851105 accuracy: 0.9139432311058044\n",
            "Test: loss: 0.23049600422382355 accuracy: 0.907281756401062\n"
          ],
          "name": "stdout"
        }
      ]
    },
    {
      "cell_type": "markdown",
      "metadata": {
        "id": "YOXVpOxCbLZS",
        "colab_type": "text"
      },
      "source": [
        "ANN"
      ]
    },
    {
      "cell_type": "code",
      "metadata": {
        "id": "bVUI3zcEbKVw",
        "colab_type": "code",
        "colab": {
          "base_uri": "https://localhost:8080/",
          "height": 1000
        },
        "outputId": "ed5f6a05-331e-4a00-8497-d769967b6725"
      },
      "source": [
        "model = tf.keras.models.Sequential([\n",
        "                                    tf.keras.layers.Dense(15, activation='relu'),\n",
        "                                    tf.keras.layers.Dropout(0.2),\n",
        "                                    tf.keras.layers.Dense(7, activation='relu'),\n",
        "                                    tf.keras.layers.Dropout(0.2),\n",
        "                                    tf.keras.layers.Dense(1, activation='sigmoid', kernel_regularizer=tf.keras.regularizers.l1(l=0.001))\n",
        "  ])\n",
        "model.compile(optimizer='adam', loss='binary_crossentropy', metrics=['accuracy'])\n",
        "history = model.fit(X_train, Y_train, epochs=100,verbose=1, validation_data=(X_test, Y_test))"
      ],
      "execution_count": 29,
      "outputs": [
        {
          "output_type": "stream",
          "text": [
            "Epoch 1/100\n",
            "277/277 [==============================] - 1s 2ms/step - loss: 0.5378 - accuracy: 0.7702 - val_loss: 0.3475 - val_accuracy: 0.9064\n",
            "Epoch 2/100\n",
            "277/277 [==============================] - 0s 2ms/step - loss: 0.3300 - accuracy: 0.8999 - val_loss: 0.2447 - val_accuracy: 0.9150\n",
            "Epoch 3/100\n",
            "277/277 [==============================] - 0s 2ms/step - loss: 0.2869 - accuracy: 0.9076 - val_loss: 0.2278 - val_accuracy: 0.9068\n",
            "Epoch 4/100\n",
            "277/277 [==============================] - 0s 2ms/step - loss: 0.2737 - accuracy: 0.9099 - val_loss: 0.2163 - val_accuracy: 0.9154\n",
            "Epoch 5/100\n",
            "277/277 [==============================] - 0s 2ms/step - loss: 0.2580 - accuracy: 0.9104 - val_loss: 0.2126 - val_accuracy: 0.9154\n",
            "Epoch 6/100\n",
            "277/277 [==============================] - 0s 2ms/step - loss: 0.2416 - accuracy: 0.9129 - val_loss: 0.2056 - val_accuracy: 0.9168\n",
            "Epoch 7/100\n",
            "277/277 [==============================] - 0s 2ms/step - loss: 0.2366 - accuracy: 0.9116 - val_loss: 0.2044 - val_accuracy: 0.9168\n",
            "Epoch 8/100\n",
            "277/277 [==============================] - 0s 2ms/step - loss: 0.2311 - accuracy: 0.9087 - val_loss: 0.2020 - val_accuracy: 0.9150\n",
            "Epoch 9/100\n",
            "277/277 [==============================] - 0s 2ms/step - loss: 0.2315 - accuracy: 0.9111 - val_loss: 0.2024 - val_accuracy: 0.9150\n",
            "Epoch 10/100\n",
            "277/277 [==============================] - 0s 2ms/step - loss: 0.2304 - accuracy: 0.9126 - val_loss: 0.2018 - val_accuracy: 0.9150\n",
            "Epoch 11/100\n",
            "277/277 [==============================] - 0s 2ms/step - loss: 0.2291 - accuracy: 0.9138 - val_loss: 0.2026 - val_accuracy: 0.9136\n",
            "Epoch 12/100\n",
            "277/277 [==============================] - 0s 2ms/step - loss: 0.2270 - accuracy: 0.9125 - val_loss: 0.2012 - val_accuracy: 0.9150\n",
            "Epoch 13/100\n",
            "277/277 [==============================] - 0s 2ms/step - loss: 0.2270 - accuracy: 0.9111 - val_loss: 0.2053 - val_accuracy: 0.9136\n",
            "Epoch 14/100\n",
            "277/277 [==============================] - 0s 2ms/step - loss: 0.2237 - accuracy: 0.9121 - val_loss: 0.2010 - val_accuracy: 0.9136\n",
            "Epoch 15/100\n",
            "277/277 [==============================] - 0s 2ms/step - loss: 0.2236 - accuracy: 0.9134 - val_loss: 0.2011 - val_accuracy: 0.9141\n",
            "Epoch 16/100\n",
            "277/277 [==============================] - 0s 2ms/step - loss: 0.2225 - accuracy: 0.9138 - val_loss: 0.2005 - val_accuracy: 0.9141\n",
            "Epoch 17/100\n",
            "277/277 [==============================] - 0s 2ms/step - loss: 0.2227 - accuracy: 0.9151 - val_loss: 0.2007 - val_accuracy: 0.9136\n",
            "Epoch 18/100\n",
            "277/277 [==============================] - 0s 2ms/step - loss: 0.2243 - accuracy: 0.9112 - val_loss: 0.1996 - val_accuracy: 0.9136\n",
            "Epoch 19/100\n",
            "277/277 [==============================] - 0s 2ms/step - loss: 0.2251 - accuracy: 0.9118 - val_loss: 0.1996 - val_accuracy: 0.9136\n",
            "Epoch 20/100\n",
            "277/277 [==============================] - 0s 2ms/step - loss: 0.2214 - accuracy: 0.9128 - val_loss: 0.2005 - val_accuracy: 0.9141\n",
            "Epoch 21/100\n",
            "277/277 [==============================] - 0s 2ms/step - loss: 0.2232 - accuracy: 0.9141 - val_loss: 0.2001 - val_accuracy: 0.9141\n",
            "Epoch 22/100\n",
            "277/277 [==============================] - 1s 2ms/step - loss: 0.2195 - accuracy: 0.9145 - val_loss: 0.1991 - val_accuracy: 0.9154\n",
            "Epoch 23/100\n",
            "277/277 [==============================] - 0s 2ms/step - loss: 0.2195 - accuracy: 0.9160 - val_loss: 0.1986 - val_accuracy: 0.9154\n",
            "Epoch 24/100\n",
            "277/277 [==============================] - 0s 2ms/step - loss: 0.2207 - accuracy: 0.9142 - val_loss: 0.1980 - val_accuracy: 0.9154\n",
            "Epoch 25/100\n",
            "277/277 [==============================] - 0s 2ms/step - loss: 0.2199 - accuracy: 0.9120 - val_loss: 0.1988 - val_accuracy: 0.9141\n",
            "Epoch 26/100\n",
            "277/277 [==============================] - 0s 2ms/step - loss: 0.2203 - accuracy: 0.9124 - val_loss: 0.2000 - val_accuracy: 0.9141\n",
            "Epoch 27/100\n",
            "277/277 [==============================] - 0s 2ms/step - loss: 0.2211 - accuracy: 0.9129 - val_loss: 0.1996 - val_accuracy: 0.9141\n",
            "Epoch 28/100\n",
            "277/277 [==============================] - 0s 2ms/step - loss: 0.2191 - accuracy: 0.9174 - val_loss: 0.1999 - val_accuracy: 0.9141\n",
            "Epoch 29/100\n",
            "277/277 [==============================] - 0s 2ms/step - loss: 0.2188 - accuracy: 0.9151 - val_loss: 0.1990 - val_accuracy: 0.9154\n",
            "Epoch 30/100\n",
            "277/277 [==============================] - 0s 2ms/step - loss: 0.2158 - accuracy: 0.9162 - val_loss: 0.1987 - val_accuracy: 0.9141\n",
            "Epoch 31/100\n",
            "277/277 [==============================] - 0s 2ms/step - loss: 0.2153 - accuracy: 0.9169 - val_loss: 0.1983 - val_accuracy: 0.9141\n",
            "Epoch 32/100\n",
            "277/277 [==============================] - 0s 2ms/step - loss: 0.2172 - accuracy: 0.9162 - val_loss: 0.1982 - val_accuracy: 0.9141\n",
            "Epoch 33/100\n",
            "277/277 [==============================] - 0s 2ms/step - loss: 0.2148 - accuracy: 0.9185 - val_loss: 0.1981 - val_accuracy: 0.9154\n",
            "Epoch 34/100\n",
            "277/277 [==============================] - 0s 2ms/step - loss: 0.2158 - accuracy: 0.9158 - val_loss: 0.1988 - val_accuracy: 0.9150\n",
            "Epoch 35/100\n",
            "277/277 [==============================] - 0s 2ms/step - loss: 0.2159 - accuracy: 0.9148 - val_loss: 0.1976 - val_accuracy: 0.9154\n",
            "Epoch 36/100\n",
            "277/277 [==============================] - 0s 2ms/step - loss: 0.2160 - accuracy: 0.9150 - val_loss: 0.1989 - val_accuracy: 0.9150\n",
            "Epoch 37/100\n",
            "277/277 [==============================] - 0s 2ms/step - loss: 0.2171 - accuracy: 0.9153 - val_loss: 0.1979 - val_accuracy: 0.9141\n",
            "Epoch 38/100\n",
            "277/277 [==============================] - 0s 2ms/step - loss: 0.2160 - accuracy: 0.9165 - val_loss: 0.1970 - val_accuracy: 0.9154\n",
            "Epoch 39/100\n",
            "277/277 [==============================] - 0s 2ms/step - loss: 0.2141 - accuracy: 0.9161 - val_loss: 0.1977 - val_accuracy: 0.9163\n",
            "Epoch 40/100\n",
            "277/277 [==============================] - 0s 2ms/step - loss: 0.2117 - accuracy: 0.9179 - val_loss: 0.1967 - val_accuracy: 0.9154\n",
            "Epoch 41/100\n",
            "277/277 [==============================] - 0s 2ms/step - loss: 0.2140 - accuracy: 0.9159 - val_loss: 0.1965 - val_accuracy: 0.9163\n",
            "Epoch 42/100\n",
            "277/277 [==============================] - 0s 2ms/step - loss: 0.2154 - accuracy: 0.9151 - val_loss: 0.1972 - val_accuracy: 0.9163\n",
            "Epoch 43/100\n",
            "277/277 [==============================] - 0s 2ms/step - loss: 0.2148 - accuracy: 0.9165 - val_loss: 0.1967 - val_accuracy: 0.9163\n",
            "Epoch 44/100\n",
            "277/277 [==============================] - 1s 2ms/step - loss: 0.2164 - accuracy: 0.9185 - val_loss: 0.1969 - val_accuracy: 0.9154\n",
            "Epoch 45/100\n",
            "277/277 [==============================] - 0s 2ms/step - loss: 0.2174 - accuracy: 0.9150 - val_loss: 0.1974 - val_accuracy: 0.9163\n",
            "Epoch 46/100\n",
            "277/277 [==============================] - 0s 2ms/step - loss: 0.2120 - accuracy: 0.9165 - val_loss: 0.1970 - val_accuracy: 0.9163\n",
            "Epoch 47/100\n",
            "277/277 [==============================] - 0s 2ms/step - loss: 0.2111 - accuracy: 0.9180 - val_loss: 0.1969 - val_accuracy: 0.9163\n",
            "Epoch 48/100\n",
            "277/277 [==============================] - 0s 2ms/step - loss: 0.2129 - accuracy: 0.9182 - val_loss: 0.1958 - val_accuracy: 0.9168\n",
            "Epoch 49/100\n",
            "277/277 [==============================] - 0s 2ms/step - loss: 0.2124 - accuracy: 0.9168 - val_loss: 0.1961 - val_accuracy: 0.9159\n",
            "Epoch 50/100\n",
            "277/277 [==============================] - 0s 2ms/step - loss: 0.2123 - accuracy: 0.9195 - val_loss: 0.1968 - val_accuracy: 0.9168\n",
            "Epoch 51/100\n",
            "277/277 [==============================] - 0s 2ms/step - loss: 0.2127 - accuracy: 0.9173 - val_loss: 0.1965 - val_accuracy: 0.9168\n",
            "Epoch 52/100\n",
            "277/277 [==============================] - 0s 2ms/step - loss: 0.2124 - accuracy: 0.9171 - val_loss: 0.1963 - val_accuracy: 0.9168\n",
            "Epoch 53/100\n",
            "277/277 [==============================] - 0s 2ms/step - loss: 0.2130 - accuracy: 0.9178 - val_loss: 0.1962 - val_accuracy: 0.9168\n",
            "Epoch 54/100\n",
            "277/277 [==============================] - 0s 2ms/step - loss: 0.2107 - accuracy: 0.9193 - val_loss: 0.1954 - val_accuracy: 0.9168\n",
            "Epoch 55/100\n",
            "277/277 [==============================] - 0s 2ms/step - loss: 0.2124 - accuracy: 0.9171 - val_loss: 0.1958 - val_accuracy: 0.9168\n",
            "Epoch 56/100\n",
            "277/277 [==============================] - 0s 2ms/step - loss: 0.2129 - accuracy: 0.9195 - val_loss: 0.1964 - val_accuracy: 0.9163\n",
            "Epoch 57/100\n",
            "277/277 [==============================] - 0s 2ms/step - loss: 0.2071 - accuracy: 0.9196 - val_loss: 0.1957 - val_accuracy: 0.9172\n",
            "Epoch 58/100\n",
            "277/277 [==============================] - 0s 2ms/step - loss: 0.2100 - accuracy: 0.9182 - val_loss: 0.1964 - val_accuracy: 0.9168\n",
            "Epoch 59/100\n",
            "277/277 [==============================] - 0s 2ms/step - loss: 0.2110 - accuracy: 0.9164 - val_loss: 0.1952 - val_accuracy: 0.9168\n",
            "Epoch 60/100\n",
            "277/277 [==============================] - 0s 2ms/step - loss: 0.2064 - accuracy: 0.9223 - val_loss: 0.1952 - val_accuracy: 0.9168\n",
            "Epoch 61/100\n",
            "277/277 [==============================] - 0s 2ms/step - loss: 0.2099 - accuracy: 0.9203 - val_loss: 0.1960 - val_accuracy: 0.9168\n",
            "Epoch 62/100\n",
            "277/277 [==============================] - 0s 2ms/step - loss: 0.2107 - accuracy: 0.9187 - val_loss: 0.1953 - val_accuracy: 0.9172\n",
            "Epoch 63/100\n",
            "277/277 [==============================] - 0s 2ms/step - loss: 0.2074 - accuracy: 0.9206 - val_loss: 0.1944 - val_accuracy: 0.9172\n",
            "Epoch 64/100\n",
            "277/277 [==============================] - 0s 2ms/step - loss: 0.2089 - accuracy: 0.9202 - val_loss: 0.1954 - val_accuracy: 0.9168\n",
            "Epoch 65/100\n",
            "277/277 [==============================] - 0s 2ms/step - loss: 0.2095 - accuracy: 0.9195 - val_loss: 0.1956 - val_accuracy: 0.9163\n",
            "Epoch 66/100\n",
            "277/277 [==============================] - 0s 2ms/step - loss: 0.2092 - accuracy: 0.9190 - val_loss: 0.1950 - val_accuracy: 0.9172\n",
            "Epoch 67/100\n",
            "277/277 [==============================] - 0s 2ms/step - loss: 0.2101 - accuracy: 0.9194 - val_loss: 0.1946 - val_accuracy: 0.9172\n",
            "Epoch 68/100\n",
            "277/277 [==============================] - 0s 2ms/step - loss: 0.2083 - accuracy: 0.9187 - val_loss: 0.1946 - val_accuracy: 0.9172\n",
            "Epoch 69/100\n",
            "277/277 [==============================] - 0s 2ms/step - loss: 0.2094 - accuracy: 0.9194 - val_loss: 0.1950 - val_accuracy: 0.9163\n",
            "Epoch 70/100\n",
            "277/277 [==============================] - 0s 2ms/step - loss: 0.2095 - accuracy: 0.9189 - val_loss: 0.1948 - val_accuracy: 0.9168\n",
            "Epoch 71/100\n",
            "277/277 [==============================] - 0s 2ms/step - loss: 0.2076 - accuracy: 0.9196 - val_loss: 0.1946 - val_accuracy: 0.9172\n",
            "Epoch 72/100\n",
            "277/277 [==============================] - 0s 2ms/step - loss: 0.2080 - accuracy: 0.9200 - val_loss: 0.1954 - val_accuracy: 0.9172\n",
            "Epoch 73/100\n",
            "277/277 [==============================] - 0s 2ms/step - loss: 0.2071 - accuracy: 0.9195 - val_loss: 0.1942 - val_accuracy: 0.9190\n",
            "Epoch 74/100\n",
            "277/277 [==============================] - 0s 2ms/step - loss: 0.2077 - accuracy: 0.9184 - val_loss: 0.1944 - val_accuracy: 0.9172\n",
            "Epoch 75/100\n",
            "277/277 [==============================] - 0s 2ms/step - loss: 0.2115 - accuracy: 0.9190 - val_loss: 0.1940 - val_accuracy: 0.9172\n",
            "Epoch 76/100\n",
            "277/277 [==============================] - 0s 2ms/step - loss: 0.2053 - accuracy: 0.9203 - val_loss: 0.1945 - val_accuracy: 0.9172\n",
            "Epoch 77/100\n",
            "277/277 [==============================] - 0s 2ms/step - loss: 0.2063 - accuracy: 0.9202 - val_loss: 0.1943 - val_accuracy: 0.9177\n",
            "Epoch 78/100\n",
            "277/277 [==============================] - 0s 2ms/step - loss: 0.2058 - accuracy: 0.9210 - val_loss: 0.1942 - val_accuracy: 0.9177\n",
            "Epoch 79/100\n",
            "277/277 [==============================] - 0s 2ms/step - loss: 0.2076 - accuracy: 0.9216 - val_loss: 0.1943 - val_accuracy: 0.9172\n",
            "Epoch 80/100\n",
            "277/277 [==============================] - 0s 2ms/step - loss: 0.2083 - accuracy: 0.9211 - val_loss: 0.1937 - val_accuracy: 0.9177\n",
            "Epoch 81/100\n",
            "277/277 [==============================] - 0s 2ms/step - loss: 0.2041 - accuracy: 0.9221 - val_loss: 0.1934 - val_accuracy: 0.9168\n",
            "Epoch 82/100\n",
            "277/277 [==============================] - 0s 2ms/step - loss: 0.2074 - accuracy: 0.9215 - val_loss: 0.1934 - val_accuracy: 0.9177\n",
            "Epoch 83/100\n",
            "277/277 [==============================] - 0s 2ms/step - loss: 0.2064 - accuracy: 0.9203 - val_loss: 0.1935 - val_accuracy: 0.9177\n",
            "Epoch 84/100\n",
            "277/277 [==============================] - 0s 2ms/step - loss: 0.2048 - accuracy: 0.9223 - val_loss: 0.1929 - val_accuracy: 0.9168\n",
            "Epoch 85/100\n",
            "277/277 [==============================] - 0s 2ms/step - loss: 0.2082 - accuracy: 0.9204 - val_loss: 0.1943 - val_accuracy: 0.9177\n",
            "Epoch 86/100\n",
            "277/277 [==============================] - 0s 2ms/step - loss: 0.2069 - accuracy: 0.9219 - val_loss: 0.1946 - val_accuracy: 0.9177\n",
            "Epoch 87/100\n",
            "277/277 [==============================] - 0s 2ms/step - loss: 0.2066 - accuracy: 0.9212 - val_loss: 0.1941 - val_accuracy: 0.9177\n",
            "Epoch 88/100\n",
            "277/277 [==============================] - 0s 2ms/step - loss: 0.2065 - accuracy: 0.9216 - val_loss: 0.1945 - val_accuracy: 0.9177\n",
            "Epoch 89/100\n",
            "277/277 [==============================] - 0s 2ms/step - loss: 0.2069 - accuracy: 0.9221 - val_loss: 0.1936 - val_accuracy: 0.9177\n",
            "Epoch 90/100\n",
            "277/277 [==============================] - 0s 2ms/step - loss: 0.2093 - accuracy: 0.9196 - val_loss: 0.1939 - val_accuracy: 0.9168\n",
            "Epoch 91/100\n",
            "277/277 [==============================] - 0s 2ms/step - loss: 0.2031 - accuracy: 0.9217 - val_loss: 0.1931 - val_accuracy: 0.9168\n",
            "Epoch 92/100\n",
            "277/277 [==============================] - 0s 2ms/step - loss: 0.2087 - accuracy: 0.9213 - val_loss: 0.1938 - val_accuracy: 0.9168\n",
            "Epoch 93/100\n",
            "277/277 [==============================] - 0s 2ms/step - loss: 0.2058 - accuracy: 0.9196 - val_loss: 0.1937 - val_accuracy: 0.9168\n",
            "Epoch 94/100\n",
            "277/277 [==============================] - 0s 2ms/step - loss: 0.2056 - accuracy: 0.9212 - val_loss: 0.1931 - val_accuracy: 0.9168\n",
            "Epoch 95/100\n",
            "277/277 [==============================] - 0s 2ms/step - loss: 0.2069 - accuracy: 0.9215 - val_loss: 0.1931 - val_accuracy: 0.9168\n",
            "Epoch 96/100\n",
            "277/277 [==============================] - 0s 2ms/step - loss: 0.2019 - accuracy: 0.9219 - val_loss: 0.1926 - val_accuracy: 0.9168\n",
            "Epoch 97/100\n",
            "277/277 [==============================] - 0s 2ms/step - loss: 0.2051 - accuracy: 0.9240 - val_loss: 0.1930 - val_accuracy: 0.9177\n",
            "Epoch 98/100\n",
            "277/277 [==============================] - 0s 2ms/step - loss: 0.2044 - accuracy: 0.9215 - val_loss: 0.1927 - val_accuracy: 0.9168\n",
            "Epoch 99/100\n",
            "277/277 [==============================] - 0s 2ms/step - loss: 0.2068 - accuracy: 0.9227 - val_loss: 0.1934 - val_accuracy: 0.9168\n",
            "Epoch 100/100\n",
            "277/277 [==============================] - 0s 2ms/step - loss: 0.2040 - accuracy: 0.9234 - val_loss: 0.1934 - val_accuracy: 0.9177\n"
          ],
          "name": "stdout"
        }
      ]
    },
    {
      "cell_type": "code",
      "metadata": {
        "id": "GSQhjJLnbPRz",
        "colab_type": "code",
        "colab": {
          "base_uri": "https://localhost:8080/",
          "height": 50
        },
        "outputId": "876f20a1-6722-4bda-b949-307b00e31417"
      },
      "source": [
        "score = model.evaluate(X_train, Y_train, verbose=0) \n",
        "print('Train:', 'loss:',score[0], 'accuracy:',score[1])\n",
        "score = model.evaluate(X_test, Y_test, verbose=0) \n",
        "print('Test:', 'loss:',score[0], 'accuracy:',score[1])"
      ],
      "execution_count": 30,
      "outputs": [
        {
          "output_type": "stream",
          "text": [
            "Train: loss: 0.18863289058208466 accuracy: 0.9262693524360657\n",
            "Test: loss: 0.19344502687454224 accuracy: 0.9176843166351318\n"
          ],
          "name": "stdout"
        }
      ]
    },
    {
      "cell_type": "markdown",
      "metadata": {
        "id": "RohiS0_GbcOg",
        "colab_type": "text"
      },
      "source": [
        "Naive Bayes"
      ]
    },
    {
      "cell_type": "code",
      "metadata": {
        "id": "P7k-AbZ-bWhJ",
        "colab_type": "code",
        "colab": {}
      },
      "source": [
        "from sklearn.naive_bayes import GaussianNB\n",
        "gnb = GaussianNB()\n",
        "model = gnb.fit(X_train, Y_train)\n",
        "y_pred = model.predict(X_test)"
      ],
      "execution_count": 0,
      "outputs": []
    },
    {
      "cell_type": "code",
      "metadata": {
        "id": "5951djYvbd1v",
        "colab_type": "code",
        "colab": {
          "base_uri": "https://localhost:8080/",
          "height": 34
        },
        "outputId": "d3a8eb79-a2ac-49a3-800e-b2aa48fab190"
      },
      "source": [
        "print(\"Number of mislabeled points out of a total %d points : %d\" % (X_test.shape[0], (Y_test != y_pred).sum()))"
      ],
      "execution_count": 32,
      "outputs": [
        {
          "output_type": "stream",
          "text": [
            "Number of mislabeled points out of a total 2211 points : 931\n"
          ],
          "name": "stdout"
        }
      ]
    },
    {
      "cell_type": "markdown",
      "metadata": {
        "id": "XtDMExeicHlq",
        "colab_type": "text"
      },
      "source": [
        "## Unsupervised"
      ]
    },
    {
      "cell_type": "markdown",
      "metadata": {
        "id": "tw-NB3lPcKK1",
        "colab_type": "text"
      },
      "source": [
        "AutoEncoders"
      ]
    },
    {
      "cell_type": "code",
      "metadata": {
        "id": "sqI_eZjybgWg",
        "colab_type": "code",
        "colab": {
          "base_uri": "https://localhost:8080/",
          "height": 1000
        },
        "outputId": "928e8ea0-b8c9-498b-a894-3803947b76af"
      },
      "source": [
        "model = tf.keras.models.Sequential([\n",
        "                                    tf.keras.layers.Dense(5, activation='relu'),\n",
        "                                    tf.keras.layers.Dropout(0.2),\n",
        "                                    tf.keras.layers.Dense(3, activation='relu'),\n",
        "                                    tf.keras.layers.Dropout(0.2),\n",
        "                                    tf.keras.layers.Dense(2, activation='relu'),\n",
        "                                    tf.keras.layers.Dropout(0.2),\n",
        "                                    tf.keras.layers.Dense(3, activation='relu'),\n",
        "                                    tf.keras.layers.Dropout(0.2),\n",
        "                                    tf.keras.layers.Dense(5, activation='tanh')\n",
        "])\n",
        "model.compile(optimizer='adam', loss='mse', metrics=['mse'])\n",
        "history = model.fit(normal_webistes, normal_webistes, epochs=100,verbose=1)"
      ],
      "execution_count": 33,
      "outputs": [
        {
          "output_type": "stream",
          "text": [
            "Epoch 1/100\n",
            "193/193 [==============================] - 0s 1ms/step - loss: 0.6992 - mse: 0.6992\n",
            "Epoch 2/100\n",
            "193/193 [==============================] - 0s 1ms/step - loss: 0.5748 - mse: 0.5748\n",
            "Epoch 3/100\n",
            "193/193 [==============================] - 0s 1ms/step - loss: 0.5371 - mse: 0.5371\n",
            "Epoch 4/100\n",
            "193/193 [==============================] - 0s 1ms/step - loss: 0.5282 - mse: 0.5282\n",
            "Epoch 5/100\n",
            "193/193 [==============================] - 0s 1ms/step - loss: 0.5226 - mse: 0.5226\n",
            "Epoch 6/100\n",
            "193/193 [==============================] - 0s 1ms/step - loss: 0.5204 - mse: 0.5204\n",
            "Epoch 7/100\n",
            "193/193 [==============================] - 0s 1ms/step - loss: 0.5183 - mse: 0.5183\n",
            "Epoch 8/100\n",
            "193/193 [==============================] - 0s 1ms/step - loss: 0.5159 - mse: 0.5159\n",
            "Epoch 9/100\n",
            "193/193 [==============================] - 0s 1ms/step - loss: 0.5092 - mse: 0.5092\n",
            "Epoch 10/100\n",
            "193/193 [==============================] - 0s 1ms/step - loss: 0.4636 - mse: 0.4636\n",
            "Epoch 11/100\n",
            "193/193 [==============================] - 0s 1ms/step - loss: 0.4459 - mse: 0.4459\n",
            "Epoch 12/100\n",
            "193/193 [==============================] - 0s 1ms/step - loss: 0.4372 - mse: 0.4372\n",
            "Epoch 13/100\n",
            "193/193 [==============================] - 0s 1ms/step - loss: 0.4349 - mse: 0.4349\n",
            "Epoch 14/100\n",
            "193/193 [==============================] - 0s 1ms/step - loss: 0.4316 - mse: 0.4316\n",
            "Epoch 15/100\n",
            "193/193 [==============================] - 0s 1ms/step - loss: 0.4242 - mse: 0.4242\n",
            "Epoch 16/100\n",
            "193/193 [==============================] - 0s 1ms/step - loss: 0.4233 - mse: 0.4233\n",
            "Epoch 17/100\n",
            "193/193 [==============================] - 0s 1ms/step - loss: 0.4253 - mse: 0.4253\n",
            "Epoch 18/100\n",
            "193/193 [==============================] - 0s 1ms/step - loss: 0.4239 - mse: 0.4239\n",
            "Epoch 19/100\n",
            "193/193 [==============================] - 0s 1ms/step - loss: 0.4230 - mse: 0.4230\n",
            "Epoch 20/100\n",
            "193/193 [==============================] - 0s 1ms/step - loss: 0.4205 - mse: 0.4205\n",
            "Epoch 21/100\n",
            "193/193 [==============================] - 0s 1ms/step - loss: 0.4236 - mse: 0.4236\n",
            "Epoch 22/100\n",
            "193/193 [==============================] - 0s 1ms/step - loss: 0.4239 - mse: 0.4239\n",
            "Epoch 23/100\n",
            "193/193 [==============================] - 0s 1ms/step - loss: 0.4217 - mse: 0.4217\n",
            "Epoch 24/100\n",
            "193/193 [==============================] - 0s 1ms/step - loss: 0.4235 - mse: 0.4235\n",
            "Epoch 25/100\n",
            "193/193 [==============================] - 0s 1ms/step - loss: 0.4254 - mse: 0.4254\n",
            "Epoch 26/100\n",
            "193/193 [==============================] - 0s 1ms/step - loss: 0.4163 - mse: 0.4163\n",
            "Epoch 27/100\n",
            "193/193 [==============================] - 0s 1ms/step - loss: 0.4174 - mse: 0.4174\n",
            "Epoch 28/100\n",
            "193/193 [==============================] - 0s 1ms/step - loss: 0.4190 - mse: 0.4190\n",
            "Epoch 29/100\n",
            "193/193 [==============================] - 0s 1ms/step - loss: 0.4154 - mse: 0.4154\n",
            "Epoch 30/100\n",
            "193/193 [==============================] - 0s 1ms/step - loss: 0.4202 - mse: 0.4202\n",
            "Epoch 31/100\n",
            "193/193 [==============================] - 0s 1ms/step - loss: 0.4153 - mse: 0.4153\n",
            "Epoch 32/100\n",
            "193/193 [==============================] - 0s 1ms/step - loss: 0.4146 - mse: 0.4146\n",
            "Epoch 33/100\n",
            "193/193 [==============================] - 0s 1ms/step - loss: 0.4151 - mse: 0.4151\n",
            "Epoch 34/100\n",
            "193/193 [==============================] - 0s 1ms/step - loss: 0.4155 - mse: 0.4155\n",
            "Epoch 35/100\n",
            "193/193 [==============================] - 0s 1ms/step - loss: 0.4146 - mse: 0.4146\n",
            "Epoch 36/100\n",
            "193/193 [==============================] - 0s 1ms/step - loss: 0.4134 - mse: 0.4134\n",
            "Epoch 37/100\n",
            "193/193 [==============================] - 0s 1ms/step - loss: 0.4147 - mse: 0.4147\n",
            "Epoch 38/100\n",
            "193/193 [==============================] - 0s 1ms/step - loss: 0.4116 - mse: 0.4116\n",
            "Epoch 39/100\n",
            "193/193 [==============================] - 0s 1ms/step - loss: 0.4148 - mse: 0.4148\n",
            "Epoch 40/100\n",
            "193/193 [==============================] - 0s 1ms/step - loss: 0.4137 - mse: 0.4137\n",
            "Epoch 41/100\n",
            "193/193 [==============================] - 0s 1ms/step - loss: 0.4139 - mse: 0.4139\n",
            "Epoch 42/100\n",
            "193/193 [==============================] - 0s 1ms/step - loss: 0.4125 - mse: 0.4125\n",
            "Epoch 43/100\n",
            "193/193 [==============================] - 0s 1ms/step - loss: 0.4114 - mse: 0.4114\n",
            "Epoch 44/100\n",
            "193/193 [==============================] - 0s 1ms/step - loss: 0.4101 - mse: 0.4101\n",
            "Epoch 45/100\n",
            "193/193 [==============================] - 0s 1ms/step - loss: 0.4126 - mse: 0.4126\n",
            "Epoch 46/100\n",
            "193/193 [==============================] - 0s 1ms/step - loss: 0.4123 - mse: 0.4123\n",
            "Epoch 47/100\n",
            "193/193 [==============================] - 0s 1ms/step - loss: 0.4118 - mse: 0.4118\n",
            "Epoch 48/100\n",
            "193/193 [==============================] - 0s 1ms/step - loss: 0.4146 - mse: 0.4146\n",
            "Epoch 49/100\n",
            "193/193 [==============================] - 0s 1ms/step - loss: 0.4128 - mse: 0.4128\n",
            "Epoch 50/100\n",
            "193/193 [==============================] - 0s 1ms/step - loss: 0.4111 - mse: 0.4111\n",
            "Epoch 51/100\n",
            "193/193 [==============================] - 0s 1ms/step - loss: 0.4121 - mse: 0.4121\n",
            "Epoch 52/100\n",
            "193/193 [==============================] - 0s 1ms/step - loss: 0.4082 - mse: 0.4082\n",
            "Epoch 53/100\n",
            "193/193 [==============================] - 0s 1ms/step - loss: 0.4146 - mse: 0.4146\n",
            "Epoch 54/100\n",
            "193/193 [==============================] - 0s 1ms/step - loss: 0.4094 - mse: 0.4094\n",
            "Epoch 55/100\n",
            "193/193 [==============================] - 0s 1ms/step - loss: 0.4089 - mse: 0.4089\n",
            "Epoch 56/100\n",
            "193/193 [==============================] - 0s 1ms/step - loss: 0.4109 - mse: 0.4109\n",
            "Epoch 57/100\n",
            "193/193 [==============================] - 0s 1ms/step - loss: 0.4094 - mse: 0.4094\n",
            "Epoch 58/100\n",
            "193/193 [==============================] - 0s 1ms/step - loss: 0.4076 - mse: 0.4076\n",
            "Epoch 59/100\n",
            "193/193 [==============================] - 0s 1ms/step - loss: 0.4071 - mse: 0.4071\n",
            "Epoch 60/100\n",
            "193/193 [==============================] - 0s 1ms/step - loss: 0.4133 - mse: 0.4133\n",
            "Epoch 61/100\n",
            "193/193 [==============================] - 0s 1ms/step - loss: 0.4124 - mse: 0.4124\n",
            "Epoch 62/100\n",
            "193/193 [==============================] - 0s 1ms/step - loss: 0.4103 - mse: 0.4103\n",
            "Epoch 63/100\n",
            "193/193 [==============================] - 0s 1ms/step - loss: 0.4106 - mse: 0.4106\n",
            "Epoch 64/100\n",
            "193/193 [==============================] - 0s 1ms/step - loss: 0.4125 - mse: 0.4125\n",
            "Epoch 65/100\n",
            "193/193 [==============================] - 0s 1ms/step - loss: 0.4070 - mse: 0.4070\n",
            "Epoch 66/100\n",
            "193/193 [==============================] - 0s 1ms/step - loss: 0.4080 - mse: 0.4080\n",
            "Epoch 67/100\n",
            "193/193 [==============================] - 0s 1ms/step - loss: 0.4086 - mse: 0.4086\n",
            "Epoch 68/100\n",
            "193/193 [==============================] - 0s 1ms/step - loss: 0.4099 - mse: 0.4099\n",
            "Epoch 69/100\n",
            "193/193 [==============================] - 0s 1ms/step - loss: 0.4073 - mse: 0.4073\n",
            "Epoch 70/100\n",
            "193/193 [==============================] - 0s 1ms/step - loss: 0.4104 - mse: 0.4104\n",
            "Epoch 71/100\n",
            "193/193 [==============================] - 0s 1ms/step - loss: 0.4113 - mse: 0.4113\n",
            "Epoch 72/100\n",
            "193/193 [==============================] - 0s 1ms/step - loss: 0.4068 - mse: 0.4068\n",
            "Epoch 73/100\n",
            "193/193 [==============================] - 0s 1ms/step - loss: 0.4078 - mse: 0.4078\n",
            "Epoch 74/100\n",
            "193/193 [==============================] - 0s 1ms/step - loss: 0.4072 - mse: 0.4072\n",
            "Epoch 75/100\n",
            "193/193 [==============================] - 0s 1ms/step - loss: 0.4076 - mse: 0.4076\n",
            "Epoch 76/100\n",
            "193/193 [==============================] - 0s 1ms/step - loss: 0.4113 - mse: 0.4113\n",
            "Epoch 77/100\n",
            "193/193 [==============================] - 0s 1ms/step - loss: 0.4096 - mse: 0.4096\n",
            "Epoch 78/100\n",
            "193/193 [==============================] - 0s 1ms/step - loss: 0.4099 - mse: 0.4099\n",
            "Epoch 79/100\n",
            "193/193 [==============================] - 0s 1ms/step - loss: 0.4068 - mse: 0.4068\n",
            "Epoch 80/100\n",
            "193/193 [==============================] - 0s 1ms/step - loss: 0.4086 - mse: 0.4086\n",
            "Epoch 81/100\n",
            "193/193 [==============================] - 0s 1ms/step - loss: 0.4063 - mse: 0.4063\n",
            "Epoch 82/100\n",
            "193/193 [==============================] - 0s 1ms/step - loss: 0.4074 - mse: 0.4074\n",
            "Epoch 83/100\n",
            "193/193 [==============================] - 0s 1ms/step - loss: 0.4086 - mse: 0.4086\n",
            "Epoch 84/100\n",
            "193/193 [==============================] - 0s 1ms/step - loss: 0.4078 - mse: 0.4078\n",
            "Epoch 85/100\n",
            "193/193 [==============================] - 0s 1ms/step - loss: 0.4077 - mse: 0.4077\n",
            "Epoch 86/100\n",
            "193/193 [==============================] - 0s 1ms/step - loss: 0.4076 - mse: 0.4076\n",
            "Epoch 87/100\n",
            "193/193 [==============================] - 0s 1ms/step - loss: 0.4046 - mse: 0.4046\n",
            "Epoch 88/100\n",
            "193/193 [==============================] - 0s 1ms/step - loss: 0.4081 - mse: 0.4081\n",
            "Epoch 89/100\n",
            "193/193 [==============================] - 0s 1ms/step - loss: 0.4046 - mse: 0.4046\n",
            "Epoch 90/100\n",
            "193/193 [==============================] - 0s 1ms/step - loss: 0.4057 - mse: 0.4057\n",
            "Epoch 91/100\n",
            "193/193 [==============================] - 0s 1ms/step - loss: 0.4050 - mse: 0.4050\n",
            "Epoch 92/100\n",
            "193/193 [==============================] - 0s 1ms/step - loss: 0.4091 - mse: 0.4091\n",
            "Epoch 93/100\n",
            "193/193 [==============================] - 0s 1ms/step - loss: 0.4025 - mse: 0.4025\n",
            "Epoch 94/100\n",
            "193/193 [==============================] - 0s 1ms/step - loss: 0.4139 - mse: 0.4139\n",
            "Epoch 95/100\n",
            "193/193 [==============================] - 0s 1ms/step - loss: 0.4075 - mse: 0.4075\n",
            "Epoch 96/100\n",
            "193/193 [==============================] - 0s 1ms/step - loss: 0.4092 - mse: 0.4092\n",
            "Epoch 97/100\n",
            "193/193 [==============================] - 0s 1ms/step - loss: 0.4056 - mse: 0.4056\n",
            "Epoch 98/100\n",
            "193/193 [==============================] - 0s 1ms/step - loss: 0.4088 - mse: 0.4088\n",
            "Epoch 99/100\n",
            "193/193 [==============================] - 0s 1ms/step - loss: 0.4054 - mse: 0.4054\n",
            "Epoch 100/100\n",
            "193/193 [==============================] - 0s 1ms/step - loss: 0.4101 - mse: 0.4101\n"
          ],
          "name": "stdout"
        }
      ]
    },
    {
      "cell_type": "code",
      "metadata": {
        "id": "yZUT8Uk1bk1K",
        "colab_type": "code",
        "colab": {
          "base_uri": "https://localhost:8080/",
          "height": 118
        },
        "outputId": "526c3320-9129-4ced-f885-62ddc83360ca"
      },
      "source": [
        "mse_train = []\n",
        "acc = 0\n",
        "for normal_i in trange(normal_webistes.shape[0]):\n",
        "  normal = normal_webistes[normal_i]\n",
        "  score = model.evaluate(np.reshape(np.array(normal), (1, 5)), np.reshape(np.array(normal), (1, 5)), verbose=0) \n",
        "  mse_train.append(score[1])\n",
        "  if score[1] < (0.29527+0.834192)/2:\n",
        "    acc += 1\n",
        "mse_train = np.array(mse_train)\n",
        "print(np.mean(mse_train))\n",
        "\n",
        "time.sleep(1)\n",
        "\n",
        "mse_test = []\n",
        "for phishing_i in trange(phishing_webistes.shape[0]):\n",
        "  phishing = phishing_webistes[phishing_i]\n",
        "  score = model.evaluate(np.reshape(np.array(phishing), (1, 5)), np.reshape(np.array(phishing), (1, 5)), verbose=0) \n",
        "  mse_test.append(score[1])\n",
        "  if score[1] > (0.29527+0.834192)/2:\n",
        "    acc += 1\n",
        "mse_test = np.array(mse_test)\n",
        "\n",
        "time.sleep(1)\n",
        "\n",
        "print(np.mean(mse_test))\n",
        "\n",
        "print()\n",
        "print('Accuracy',acc/(phishing_webistes.shape[0] + normal_webistes.shape[0]))"
      ],
      "execution_count": 34,
      "outputs": [
        {
          "output_type": "stream",
          "text": [
            "100%|██████████| 6157/6157 [03:15<00:00, 31.54it/s]\n"
          ],
          "name": "stderr"
        },
        {
          "output_type": "stream",
          "text": [
            "0.344087118494379\n"
          ],
          "name": "stdout"
        },
        {
          "output_type": "stream",
          "text": [
            "100%|██████████| 4897/4897 [02:36<00:00, 31.27it/s]\n"
          ],
          "name": "stderr"
        },
        {
          "output_type": "stream",
          "text": [
            "0.8766558148120529\n",
            "\n",
            "Accuracy 0.809842590917315\n"
          ],
          "name": "stdout"
        }
      ]
    },
    {
      "cell_type": "markdown",
      "metadata": {
        "id": "o-veNUaacoU9",
        "colab_type": "text"
      },
      "source": [
        "K Means"
      ]
    },
    {
      "cell_type": "code",
      "metadata": {
        "id": "mCf_jPPncRsd",
        "colab_type": "code",
        "colab": {}
      },
      "source": [
        "def k_means(X, n_clusters):\n",
        "  kmeans = KMeans(n_clusters=n_clusters, random_state=0).fit(X)\n",
        "  return kmeans.labels_"
      ],
      "execution_count": 0,
      "outputs": []
    },
    {
      "cell_type": "code",
      "metadata": {
        "id": "o4C8XCt2cngH",
        "colab_type": "code",
        "colab": {
          "base_uri": "https://localhost:8080/",
          "height": 34
        },
        "outputId": "ff47f4f5-3656-42ed-a367-fae4a25eb535"
      },
      "source": [
        "labels = k_means(X_train, 2)\n",
        "print(1 - np.mean(np.square(Y_train - labels)))"
      ],
      "execution_count": 36,
      "outputs": [
        {
          "output_type": "stream",
          "text": [
            "0.88917788080968\n"
          ],
          "name": "stdout"
        }
      ]
    },
    {
      "cell_type": "code",
      "metadata": {
        "id": "0HR19qV6cpQw",
        "colab_type": "code",
        "colab": {}
      },
      "source": [
        ""
      ],
      "execution_count": 0,
      "outputs": []
    }
  ]
}